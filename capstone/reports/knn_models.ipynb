{
 "cells": [
  {
   "cell_type": "markdown",
   "metadata": {},
   "source": [
    "## kNN classifiers"
   ]
  },
  {
   "cell_type": "markdown",
   "metadata": {},
   "source": [
    "### Imports and global variables"
   ]
  },
  {
   "cell_type": "code",
   "execution_count": 120,
   "metadata": {
    "collapsed": false
   },
   "outputs": [],
   "source": [
    "import numpy as np\n",
    "import pandas as pd\n",
    "import seaborn as sns\n",
    "import matplotlib.pyplot as plt\n",
    "from ipywidgets import *\n",
    "from IPython.display import display\n",
    "\n",
    "import imp\n",
    "plotter = imp.load_source('plotter', '/Users/katbishop/Desktop/DSI-SF2-bishopkd/utils/plotting/knn_plotter.py')\n",
    "from sklearn.metrics import roc_curve, auc\n",
    "from plotter import KNNBoundaryPlotter\n",
    "from sklearn.cross_validation import train_test_split\n",
    "from sklearn.neighbors import KNeighborsClassifier\n",
    "from sklearn.cross_validation import StratifiedKFold\n",
    "from sklearn.grid_search import GridSearchCV\n",
    "\n",
    "plt.style.use('fivethirtyeight')\n",
    "%matplotlib inline\n",
    "\n",
    "path = '/Users/katbishop/Desktop/DSI-SF2-bishopkd/projects/capstone/data/'"
   ]
  },
  {
   "cell_type": "markdown",
   "metadata": {},
   "source": [
    "#### Load the data"
   ]
  },
  {
   "cell_type": "code",
   "execution_count": 121,
   "metadata": {
    "collapsed": false
   },
   "outputs": [
    {
     "name": "stdout",
     "output_type": "stream",
     "text": [
      "(780, 63)\n",
      "(141, 63)\n",
      "(921, 63)\n"
     ]
    },
    {
     "data": {
      "text/html": [
       "<div>\n",
       "<table border=\"1\" class=\"dataframe\">\n",
       "  <thead>\n",
       "    <tr style=\"text-align: right;\">\n",
       "      <th></th>\n",
       "      <th>adj</th>\n",
       "      <th>adj_compare</th>\n",
       "      <th>adj_sup</th>\n",
       "      <th>adv</th>\n",
       "      <th>adv_compare</th>\n",
       "      <th>adv_part</th>\n",
       "      <th>adv_sup</th>\n",
       "      <th>avg_sent_len</th>\n",
       "      <th>avg_word_len</th>\n",
       "      <th>best_seller</th>\n",
       "      <th>...</th>\n",
       "      <th>verb_count</th>\n",
       "      <th>verb_ger</th>\n",
       "      <th>verb_past</th>\n",
       "      <th>verb_pp</th>\n",
       "      <th>verb_sing_pres</th>\n",
       "      <th>wh_adv</th>\n",
       "      <th>wh_determ</th>\n",
       "      <th>wh_poss</th>\n",
       "      <th>wh_pronoun</th>\n",
       "      <th>word_count</th>\n",
       "    </tr>\n",
       "  </thead>\n",
       "  <tbody>\n",
       "    <tr>\n",
       "      <th>0</th>\n",
       "      <td>0.065870</td>\n",
       "      <td>0.001992</td>\n",
       "      <td>0.003091</td>\n",
       "      <td>0.063397</td>\n",
       "      <td>0.001099</td>\n",
       "      <td>0.006937</td>\n",
       "      <td>0.000206</td>\n",
       "      <td>13</td>\n",
       "      <td>4</td>\n",
       "      <td>1</td>\n",
       "      <td>...</td>\n",
       "      <td>2599.0</td>\n",
       "      <td>0.023079</td>\n",
       "      <td>0.066282</td>\n",
       "      <td>0.021087</td>\n",
       "      <td>0.025483</td>\n",
       "      <td>0.006319</td>\n",
       "      <td>0.003915</td>\n",
       "      <td>0.0</td>\n",
       "      <td>0.003846</td>\n",
       "      <td>14559</td>\n",
       "    </tr>\n",
       "    <tr>\n",
       "      <th>1</th>\n",
       "      <td>0.064633</td>\n",
       "      <td>0.003045</td>\n",
       "      <td>0.001282</td>\n",
       "      <td>0.064847</td>\n",
       "      <td>0.001709</td>\n",
       "      <td>0.008333</td>\n",
       "      <td>0.000374</td>\n",
       "      <td>18</td>\n",
       "      <td>4</td>\n",
       "      <td>1</td>\n",
       "      <td>...</td>\n",
       "      <td>3359.0</td>\n",
       "      <td>0.022221</td>\n",
       "      <td>0.070135</td>\n",
       "      <td>0.024838</td>\n",
       "      <td>0.019497</td>\n",
       "      <td>0.005769</td>\n",
       "      <td>0.004754</td>\n",
       "      <td>0.0</td>\n",
       "      <td>0.006303</td>\n",
       "      <td>18721</td>\n",
       "    </tr>\n",
       "  </tbody>\n",
       "</table>\n",
       "<p>2 rows × 63 columns</p>\n",
       "</div>"
      ],
      "text/plain": [
       "        adj  adj_compare   adj_sup       adv  adv_compare  adv_part   adv_sup  \\\n",
       "0  0.065870     0.001992  0.003091  0.063397     0.001099  0.006937  0.000206   \n",
       "1  0.064633     0.003045  0.001282  0.064847     0.001709  0.008333  0.000374   \n",
       "\n",
       "   avg_sent_len  avg_word_len  best_seller     ...     verb_count  verb_ger  \\\n",
       "0            13             4            1     ...         2599.0  0.023079   \n",
       "1            18             4            1     ...         3359.0  0.022221   \n",
       "\n",
       "   verb_past   verb_pp  verb_sing_pres    wh_adv  wh_determ  wh_poss  \\\n",
       "0   0.066282  0.021087        0.025483  0.006319   0.003915      0.0   \n",
       "1   0.070135  0.024838        0.019497  0.005769   0.004754      0.0   \n",
       "\n",
       "   wh_pronoun  word_count  \n",
       "0    0.003846       14559  \n",
       "1    0.006303       18721  \n",
       "\n",
       "[2 rows x 63 columns]"
      ]
     },
     "execution_count": 121,
     "metadata": {},
     "output_type": "execute_result"
    }
   ],
   "source": [
    "# load training data\n",
    "df = pd.read_csv(path + 'df.csv')\n",
    "del df['Unnamed: 0']\n",
    "#del df['Unnamed: 0.1']\n",
    "\n",
    "# load held-out testing data\n",
    "df_test = pd.read_csv(path + 'df_test.csv')\n",
    "del df_test['Unnamed: 0']\n",
    "\n",
    "df_all = pd.concat([df,df_test], axis=0).reset_index()\n",
    "del df_all['index']\n",
    "\n",
    "print df.shape\n",
    "print df_test.shape\n",
    "print df_all.shape\n",
    "df_all.head(2)"
   ]
  },
  {
   "cell_type": "code",
   "execution_count": 122,
   "metadata": {
    "collapsed": false
   },
   "outputs": [
    {
     "name": "stdout",
     "output_type": "stream",
     "text": [
      "(470, 63)\n",
      "(451, 63)\n"
     ]
    }
   ],
   "source": [
    "# subset the data\n",
    "sf = df_all[df_all['sci_fi']==1]\n",
    "rm = df_all[df_all['sci_fi']==0]\n",
    "print sf.shape\n",
    "print rm.shape"
   ]
  },
  {
   "cell_type": "markdown",
   "metadata": {},
   "source": [
    "#### Science-fiction"
   ]
  },
  {
   "cell_type": "code",
   "execution_count": 123,
   "metadata": {
    "collapsed": false
   },
   "outputs": [
    {
     "name": "stdout",
     "output_type": "stream",
     "text": [
      "(470,) (470, 54)\n",
      "(329, 54) (329,)\n",
      "(141, 54) (141,)\n"
     ]
    }
   ],
   "source": [
    "y_sf = sf['best_seller'].values\n",
    "#X_sf = sf[['avg_sent_len', 'avg_word_len', 'lex_diversity', 'polarity','subjectivity', 'profane']].values\n",
    "X_sf = sf[['avg_sent_len', 'avg_word_len', 'lex_diversity', 'polarity','subjectivity', 'profane','conj_coord',\n",
    "            'determiner', 'exist_there', 'foreign_word','conj_sub_prep', 'adj', 'adj_compare','adj_sup', \n",
    "           'verb_aux','noun', 'noun_prop', 'noun_prop_pural', 'noun_plural', 'predeterm','poss_ending','pronoun_pers',\n",
    "           'pronoun_poss', 'adv', 'adv_compare','adv_sup', 'adv_part', 'inf_to', 'interject', 'verb_base','verb_past',\n",
    "           'verb_ger', 'verb_pp', 'verb_sing_pres','verb_3rd_sing_pres', 'wh_determ', 'wh_pronoun', 'wh_poss','wh_adv',\n",
    "           'verb.body', 'verb.change', 'verb.cognition','verb.communication', 'verb.competition', 'verb.consumption',\n",
    "           'verb.contact', 'verb.creation', 'verb.emotion', 'verb.motion','verb.perception', 'verb.possession', \n",
    "           'verb.social', 'verb.stative','verb.weather']].values\n",
    "print y_sf.shape, X_sf.shape\n",
    "\n",
    "X_sf, X_sf_test, y_sf, y_sf_test = train_test_split(X_sf, y_sf, test_size=0.3)\n",
    "\n",
    "print X_sf.shape, y_sf.shape\n",
    "print X_sf_test.shape, y_sf_test.shape"
   ]
  },
  {
   "cell_type": "code",
   "execution_count": 124,
   "metadata": {
    "collapsed": true
   },
   "outputs": [],
   "source": [
    "def accuracy_crossvalidator(X, y, knn, cv_indices):\n",
    "    scores = []\n",
    "    for train_i, test_i in cv_indices:\n",
    "        \n",
    "        X_train = X[train_i, :]\n",
    "        X_test = X[test_i, :]\n",
    "        y_train = y[train_i]\n",
    "        y_test = y[test_i]\n",
    "\n",
    "        knn.fit(X_train, y_train)\n",
    "        acc = knn.score(X_test, y_test)\n",
    "        scores.append(acc)\n",
    "        \n",
    "        print('Fold accuracy:', acc)    \n",
    "    print('Mean CV accuracy:', np.mean(scores))"
   ]
  },
  {
   "cell_type": "code",
   "execution_count": 125,
   "metadata": {
    "collapsed": false
   },
   "outputs": [
    {
     "name": "stdout",
     "output_type": "stream",
     "text": [
      "('Fold accuracy:', 0.88235294117647056)\n",
      "('Fold accuracy:', 0.8529411764705882)\n",
      "('Fold accuracy:', 0.88235294117647056)\n",
      "('Fold accuracy:', 0.72727272727272729)\n",
      "('Fold accuracy:', 0.72727272727272729)\n",
      "('Fold accuracy:', 0.72727272727272729)\n",
      "('Fold accuracy:', 0.875)\n",
      "('Fold accuracy:', 0.84375)\n",
      "('Fold accuracy:', 0.71875)\n",
      "('Fold accuracy:', 0.84375)\n",
      "('Mean CV accuracy:', 0.80807152406417104)\n"
     ]
    }
   ],
   "source": [
    "cv = StratifiedKFold(y_sf, n_folds=10)\n",
    "knn_sf = KNeighborsClassifier(n_neighbors=3, weights='distance')\n",
    "accuracy_crossvalidator(X_sf, y_sf, knn_sf, cv)"
   ]
  },
  {
   "cell_type": "code",
   "execution_count": 126,
   "metadata": {
    "collapsed": false
   },
   "outputs": [
    {
     "name": "stdout",
     "output_type": "stream",
     "text": [
      "Fitting 10 folds for each of 22 candidates, totalling 220 fits\n"
     ]
    },
    {
     "name": "stderr",
     "output_type": "stream",
     "text": [
      "[Parallel(n_jobs=1)]: Done  49 tasks       | elapsed:    0.2s\n"
     ]
    },
    {
     "name": "stdout",
     "output_type": "stream",
     "text": [
      "{'n_neighbors': 1, 'weights': 'uniform'}\n",
      "KNeighborsClassifier(algorithm='auto', leaf_size=30, metric='minkowski',\n",
      "           metric_params=None, n_jobs=1, n_neighbors=1, p=2,\n",
      "           weights='uniform')\n",
      "('Fold accuracy:', 0.94117647058823528)\n",
      "('Fold accuracy:', 0.8529411764705882)\n",
      "('Fold accuracy:', 0.88235294117647056)\n",
      "('Fold accuracy:', 0.90909090909090906)\n",
      "('Fold accuracy:', 0.72727272727272729)\n",
      "('Fold accuracy:', 0.81818181818181823)\n",
      "('Fold accuracy:', 0.90625)\n",
      "('Fold accuracy:', 0.84375)\n",
      "('Fold accuracy:', 0.84375)\n",
      "('Fold accuracy:', 0.90625)\n",
      "('Mean CV accuracy:', 0.86310160427807481)\n"
     ]
    },
    {
     "name": "stderr",
     "output_type": "stream",
     "text": [
      "[Parallel(n_jobs=1)]: Done 199 tasks       | elapsed:    0.8s\n",
      "[Parallel(n_jobs=1)]: Done 220 out of 220 | elapsed:    0.8s finished\n"
     ]
    }
   ],
   "source": [
    "search_parameters = {\n",
    "    'n_neighbors': range(1,12), \n",
    "    'weights':      ['uniform','distance']\n",
    "}\n",
    "\n",
    "knn = KNeighborsClassifier() \n",
    "knn_gs = GridSearchCV(knn, search_parameters, cv=10, verbose=1)\n",
    "\n",
    "knn_sf = knn_gs.fit(X_sf, y_sf)\n",
    "knn_proba_sf = knn_sf.predict_proba(X_sf_test)\n",
    "\n",
    "print knn_sf.best_params_\n",
    "best_knn_sf = knn_sf.best_estimator_\n",
    "print best_knn_sf\n",
    "accuracy_crossvalidator(X_sf, y_sf, best_knn_sf, cv)"
   ]
  },
  {
   "cell_type": "markdown",
   "metadata": {},
   "source": [
    "#### Romance"
   ]
  },
  {
   "cell_type": "code",
   "execution_count": 136,
   "metadata": {
    "collapsed": false
   },
   "outputs": [
    {
     "name": "stdout",
     "output_type": "stream",
     "text": [
      "score on testing data 0.879432624113\n"
     ]
    }
   ],
   "source": [
    "print \"score on testing data\", best_knn_sf.score(X_sf_test, y_sf_test)"
   ]
  },
  {
   "cell_type": "code",
   "execution_count": 127,
   "metadata": {
    "collapsed": false
   },
   "outputs": [
    {
     "name": "stdout",
     "output_type": "stream",
     "text": [
      "(451, 54) (451,)\n",
      "(315, 54) (315,)\n",
      "(136, 54) (136,)\n"
     ]
    }
   ],
   "source": [
    "y_rm = rm['best_seller'].values\n",
    "X_rm = rm[['avg_sent_len', 'avg_word_len', 'lex_diversity', 'polarity','subjectivity', 'profane','conj_coord',\n",
    "            'determiner', 'exist_there', 'foreign_word','conj_sub_prep', 'adj', 'adj_compare','adj_sup', \n",
    "           'verb_aux','noun', 'noun_prop', 'noun_prop_pural', 'noun_plural', 'predeterm','poss_ending','pronoun_pers',\n",
    "           'pronoun_poss', 'adv', 'adv_compare','adv_sup', 'adv_part', 'inf_to', 'interject', 'verb_base','verb_past',\n",
    "           'verb_ger', 'verb_pp', 'verb_sing_pres','verb_3rd_sing_pres', 'wh_determ', 'wh_pronoun', 'wh_poss','wh_adv',\n",
    "           'verb.body', 'verb.change', 'verb.cognition','verb.communication', 'verb.competition', 'verb.consumption',\n",
    "           'verb.contact', 'verb.creation', 'verb.emotion', 'verb.motion','verb.perception', 'verb.possession', \n",
    "           'verb.social', 'verb.stative','verb.weather']].values\n",
    "\n",
    "print  X_rm.shape,y_rm.shape\n",
    "\n",
    "X_rm, X_rm_test, y_rm, y_rm_test = train_test_split(X_rm, y_rm, test_size=0.3)\n",
    "\n",
    "print X_rm.shape, y_rm.shape\n",
    "print X_rm_test.shape, y_rm_test.shape"
   ]
  },
  {
   "cell_type": "code",
   "execution_count": 128,
   "metadata": {
    "collapsed": false
   },
   "outputs": [
    {
     "name": "stdout",
     "output_type": "stream",
     "text": [
      "('Fold accuracy:', 0.78125)\n",
      "('Fold accuracy:', 0.8125)\n",
      "('Fold accuracy:', 0.78125)\n",
      "('Fold accuracy:', 0.84375)\n",
      "('Fold accuracy:', 0.78125)\n",
      "('Fold accuracy:', 0.9375)\n",
      "('Fold accuracy:', 0.84375)\n",
      "('Fold accuracy:', 0.77419354838709675)\n",
      "('Fold accuracy:', 0.80000000000000004)\n",
      "('Fold accuracy:', 0.8666666666666667)\n",
      "('Mean CV accuracy:', 0.82221102150537639)\n"
     ]
    }
   ],
   "source": [
    "cv_rm = StratifiedKFold(y_rm, n_folds=10)\n",
    "knn_rm = KNeighborsClassifier(n_neighbors=3, weights='uniform')\n",
    "accuracy_crossvalidator(X_rm, y_rm, knn_rm, cv_rm)"
   ]
  },
  {
   "cell_type": "code",
   "execution_count": 138,
   "metadata": {
    "collapsed": false
   },
   "outputs": [
    {
     "name": "stdout",
     "output_type": "stream",
     "text": [
      "Fitting 10 folds for each of 22 candidates, totalling 220 fits\n"
     ]
    },
    {
     "name": "stderr",
     "output_type": "stream",
     "text": [
      "[Parallel(n_jobs=1)]: Done  49 tasks       | elapsed:    0.2s\n"
     ]
    },
    {
     "name": "stdout",
     "output_type": "stream",
     "text": [
      "{'n_neighbors': 1, 'weights': 'uniform'}\n",
      "KNeighborsClassifier(algorithm='auto', leaf_size=30, metric='minkowski',\n",
      "           metric_params=None, n_jobs=1, n_neighbors=1, p=2,\n",
      "           weights='uniform')\n",
      "('Fold accuracy:', 0.875)\n",
      "('Fold accuracy:', 0.8125)\n",
      "('Fold accuracy:', 0.84375)\n",
      "('Fold accuracy:', 0.84375)\n",
      "('Fold accuracy:', 0.9375)\n",
      "('Fold accuracy:', 0.9375)\n",
      "('Fold accuracy:', 0.9375)\n",
      "('Fold accuracy:', 0.87096774193548387)\n",
      "('Fold accuracy:', 0.8666666666666667)\n",
      "('Fold accuracy:', 0.93333333333333335)\n",
      "('Mean CV accuracy:', 0.88584677419354851)\n"
     ]
    },
    {
     "name": "stderr",
     "output_type": "stream",
     "text": [
      "[Parallel(n_jobs=1)]: Done 199 tasks       | elapsed:    0.7s\n",
      "[Parallel(n_jobs=1)]: Done 220 out of 220 | elapsed:    0.8s finished\n"
     ]
    }
   ],
   "source": [
    "search_parameters = {\n",
    "    'n_neighbors': range(1,12), \n",
    "    'weights':      ['uniform','distance']\n",
    "}\n",
    "\n",
    "knn_rm = KNeighborsClassifier() \n",
    "knn_rm_gs = GridSearchCV(knn_rm, search_parameters, cv=10, verbose=1)\n",
    "\n",
    "knn_rm = knn_rm_gs.fit(X_rm, y_rm)\n",
    "knn_proba_rm = knn_rm.predict_proba(X_rm_test)\n",
    "\n",
    "print knn_rm_gs.best_params_\n",
    "best_knn_rm = knn_rm_gs.best_estimator_\n",
    "print best_knn_rm\n",
    "accuracy_crossvalidator(X_rm, y_rm, best_knn_rm, cv_rm)"
   ]
  },
  {
   "cell_type": "code",
   "execution_count": 139,
   "metadata": {
    "collapsed": false
   },
   "outputs": [
    {
     "name": "stdout",
     "output_type": "stream",
     "text": [
      "score on testing data 0.823529411765\n"
     ]
    }
   ],
   "source": [
    "print \"score on testing data\", best_knn_rm.score(X_rm_test, y_rm_test)"
   ]
  },
  {
   "cell_type": "markdown",
   "metadata": {},
   "source": [
    "#### All together now, just for fun"
   ]
  },
  {
   "cell_type": "code",
   "execution_count": 130,
   "metadata": {
    "collapsed": false
   },
   "outputs": [
    {
     "name": "stdout",
     "output_type": "stream",
     "text": [
      "(780,) (780, 54)\n",
      "(546, 54) (546,)\n",
      "(234, 54) (234,)\n"
     ]
    }
   ],
   "source": [
    "y = df['best_seller'].values\n",
    "X = df[['avg_sent_len', 'avg_word_len', 'lex_diversity', 'polarity','subjectivity', 'profane','conj_coord',\n",
    "            'determiner', 'exist_there', 'foreign_word','conj_sub_prep', 'adj', 'adj_compare','adj_sup', \n",
    "           'verb_aux','noun', 'noun_prop', 'noun_prop_pural', 'noun_plural', 'predeterm','poss_ending','pronoun_pers',\n",
    "           'pronoun_poss', 'adv', 'adv_compare','adv_sup', 'adv_part', 'inf_to', 'interject', 'verb_base','verb_past',\n",
    "           'verb_ger', 'verb_pp', 'verb_sing_pres','verb_3rd_sing_pres', 'wh_determ', 'wh_pronoun', 'wh_poss','wh_adv',\n",
    "           'verb.body', 'verb.change', 'verb.cognition','verb.communication', 'verb.competition', 'verb.consumption',\n",
    "           'verb.contact', 'verb.creation', 'verb.emotion', 'verb.motion','verb.perception', 'verb.possession', \n",
    "           'verb.social', 'verb.stative','verb.weather']].values\n",
    "\n",
    "print y.shape, X.shape\n",
    "\n",
    "X, X_test, y, y_test = train_test_split(X, y, test_size=0.3)\n",
    "\n",
    "print X.shape, y.shape\n",
    "print X_test.shape, y_test.shape\n"
   ]
  },
  {
   "cell_type": "code",
   "execution_count": 140,
   "metadata": {
    "collapsed": false
   },
   "outputs": [
    {
     "name": "stdout",
     "output_type": "stream",
     "text": [
      "Fitting 10 folds for each of 22 candidates, totalling 220 fits\n"
     ]
    },
    {
     "name": "stderr",
     "output_type": "stream",
     "text": [
      "[Parallel(n_jobs=1)]: Done  49 tasks       | elapsed:    0.2s\n"
     ]
    },
    {
     "name": "stdout",
     "output_type": "stream",
     "text": [
      "{'n_neighbors': 1, 'weights': 'uniform'}\n",
      "KNeighborsClassifier(algorithm='auto', leaf_size=30, metric='minkowski',\n",
      "           metric_params=None, n_jobs=1, n_neighbors=1, p=2,\n",
      "           weights='uniform')\n",
      "('Fold accuracy:', 0.89090909090909087)\n",
      "('Fold accuracy:', 0.92727272727272725)\n",
      "('Fold accuracy:', 0.87272727272727268)\n",
      "('Fold accuracy:', 0.94545454545454544)\n",
      "('Fold accuracy:', 0.81818181818181823)\n",
      "('Fold accuracy:', 0.8545454545454545)\n",
      "('Fold accuracy:', 0.88888888888888884)\n",
      "('Fold accuracy:', 0.83333333333333337)\n",
      "('Fold accuracy:', 0.83333333333333337)\n",
      "('Fold accuracy:', 0.92592592592592593)\n",
      "('Mean CV accuracy:', 0.87905723905723909)\n"
     ]
    },
    {
     "name": "stderr",
     "output_type": "stream",
     "text": [
      "[Parallel(n_jobs=1)]: Done 199 tasks       | elapsed:    0.9s\n",
      "[Parallel(n_jobs=1)]: Done 220 out of 220 | elapsed:    1.0s finished\n"
     ]
    }
   ],
   "source": [
    "cv_all = StratifiedKFold(y, n_folds=10)\n",
    "search_parameters = {\n",
    "    'n_neighbors': range(1,12), \n",
    "    'weights':      ['uniform','distance']\n",
    "}\n",
    "\n",
    "knn = KNeighborsClassifier() \n",
    "knn_gs = GridSearchCV(knn, search_parameters, cv=10, verbose=1)\n",
    "\n",
    "knn_all = knn_gs.fit(X, y)\n",
    "knn_proba_all = knn_all.predict_proba(X_test)\n",
    "print knn_gs.best_params_\n",
    "best_knn = knn_gs.best_estimator_\n",
    "print best_knn\n",
    "accuracy_crossvalidator(X, y, best_knn, cv_all)"
   ]
  },
  {
   "cell_type": "code",
   "execution_count": 141,
   "metadata": {
    "collapsed": false
   },
   "outputs": [
    {
     "name": "stdout",
     "output_type": "stream",
     "text": [
      "score on testing data 0.867521367521\n"
     ]
    }
   ],
   "source": [
    "print \"score on testing data\", best_knn.score(X_test, y_test)"
   ]
  },
  {
   "cell_type": "code",
   "execution_count": 131,
   "metadata": {
    "collapsed": true
   },
   "outputs": [],
   "source": [
    "def plot_roc_curve(target=False, predict_proba=False, title='Your prediction'):\n",
    "\n",
    "    FPR = dict()\n",
    "    TPR = dict()\n",
    "    ROC_AUC = dict()\n",
    "\n",
    "    FPR[1], TPR[1], _ = roc_curve(target,predict_proba)\n",
    "    ROC_AUC[1] = auc(FPR[1], TPR[1])\n",
    "    acc_ = np.abs(0.5 - np.mean(target)) + 0.5\n",
    "\n",
    "    plt.figure(figsize=[11,9])\n",
    "    plt.plot(FPR[1], TPR[1], label='ROC curve (area = %0.2f)' % ROC_AUC[1], linewidth=4, color='darkred')\n",
    "    #plt.plot([0, 1], [0, 1], 'k--', linewidth=4)\n",
    "    plt.plot([0, 1], [0, 1], color='grey', ls='dashed',\n",
    "             alpha=0.9, linewidth=4, label='baseline accuracy = %0.2f' % acc_)\n",
    "    plt.xlim([0.0, 1.0])\n",
    "    plt.ylim([0.0, 1.05])\n",
    "    plt.xlabel('False Positive Rate', fontsize=18)\n",
    "    plt.ylabel('True Positive Rate', fontsize=18)\n",
    "    plt.title(' %s' % title, fontsize=18)\n",
    "    plt.legend(loc=\"lower right\")\n",
    "    plt.show()"
   ]
  },
  {
   "cell_type": "code",
   "execution_count": 133,
   "metadata": {
    "collapsed": false
   },
   "outputs": [
    {
     "data": {
      "image/png": "[encoded data removed]",
      "text/plain": [
       "<matplotlib.figure.Figure at 0x125039750>"
      ]
     },
     "metadata": {},
     "output_type": "display_data"
    }
   ],
   "source": [
    "plot_roc_curve(target=y_rm_test, predict_proba=knn_proba_rm[:,1], title='Romance best-seller prediction: kNN')"
   ]
  },
  {
   "cell_type": "code",
   "execution_count": 135,
   "metadata": {
    "collapsed": false
   },
   "outputs": [
    {
     "data": {
      "image/png": "[encoded data removed]",
      "text/plain": [
       "<matplotlib.figure.Figure at 0x123b52d10>"
      ]
     },
     "metadata": {},
     "output_type": "display_data"
    }
   ],
   "source": [
    "plot_roc_curve(target=y_sf_test, predict_proba=knn_proba_sf[:,1], title='Science-fiction best-seller prediction: kNN')"
   ]
  },
  {
   "cell_type": "code",
   "execution_count": null,
   "metadata": {
    "collapsed": true
   },
   "outputs": [],
   "source": []
  }
 ],
 "metadata": {
  "anaconda-cloud": {},
  "kernelspec": {
   "display_name": "Python [dsi]",
   "language": "python",
   "name": "Python [dsi]"
  },
  "language_info": {
   "codemirror_mode": {
    "name": "ipython",
    "version": 2
   },
   "file_extension": ".py",
   "mimetype": "text/x-python",
   "name": "python",
   "nbconvert_exporter": "python",
   "pygments_lexer": "ipython2",
   "version": "2.7.12"
  }
 },
 "nbformat": 4,
 "nbformat_minor": 0
}
