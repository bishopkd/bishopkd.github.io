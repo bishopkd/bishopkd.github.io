{
 "cells": [
  {
   "cell_type": "markdown",
   "metadata": {},
   "source": [
    "## Random forest classification"
   ]
  },
  {
   "cell_type": "markdown",
   "metadata": {},
   "source": [
    "### Imports and global variables"
   ]
  },
  {
   "cell_type": "code",
   "execution_count": 569,
   "metadata": {
    "collapsed": false
   },
   "outputs": [],
   "source": [
    "import numpy as np\n",
    "import pandas as pd\n",
    "import seaborn as sns\n",
    "import matplotlib.pyplot as plt\n",
    "from ipywidgets import *\n",
    "from IPython.display import display\n",
    "from sklearn.metrics import roc_curve, auc\n",
    "\n",
    "from sklearn.tree import DecisionTreeClassifier\n",
    "from sklearn.ensemble import RandomForestClassifier\n",
    "from sklearn.metrics import classification_report\n",
    "from sklearn.cross_validation import cross_val_score\n",
    "from sklearn.cross_validation import train_test_split\n",
    "from sklearn.grid_search import GridSearchCV\n",
    "from sklearn.externals.six import StringIO  \n",
    "from IPython.display import Image  \n",
    "from sklearn.tree import export_graphviz\n",
    "import pydotplus\n",
    "\n",
    "plt.style.use('fivethirtyeight')\n",
    "%matplotlib inline\n",
    "\n",
    "path = '/Users/katbishop/Desktop/DSI-SF2-bishopkd/projects/capstone/data/'"
   ]
  },
  {
   "cell_type": "markdown",
   "metadata": {},
   "source": [
    "#### Load the data"
   ]
  },
  {
   "cell_type": "code",
   "execution_count": 570,
   "metadata": {
    "collapsed": false
   },
   "outputs": [
    {
     "name": "stdout",
     "output_type": "stream",
     "text": [
      "(780, 63)\n",
      "(141, 63)\n",
      "(921, 63)\n"
     ]
    },
    {
     "data": {
      "text/html": [
       "<div>\n",
       "<table border=\"1\" class=\"dataframe\">\n",
       "  <thead>\n",
       "    <tr style=\"text-align: right;\">\n",
       "      <th></th>\n",
       "      <th>adj</th>\n",
       "      <th>adj_compare</th>\n",
       "      <th>adj_sup</th>\n",
       "      <th>adv</th>\n",
       "      <th>adv_compare</th>\n",
       "      <th>adv_part</th>\n",
       "      <th>adv_sup</th>\n",
       "      <th>avg_sent_len</th>\n",
       "      <th>avg_word_len</th>\n",
       "      <th>best_seller</th>\n",
       "      <th>...</th>\n",
       "      <th>verb_count</th>\n",
       "      <th>verb_ger</th>\n",
       "      <th>verb_past</th>\n",
       "      <th>verb_pp</th>\n",
       "      <th>verb_sing_pres</th>\n",
       "      <th>wh_adv</th>\n",
       "      <th>wh_determ</th>\n",
       "      <th>wh_poss</th>\n",
       "      <th>wh_pronoun</th>\n",
       "      <th>word_count</th>\n",
       "    </tr>\n",
       "  </thead>\n",
       "  <tbody>\n",
       "    <tr>\n",
       "      <th>0</th>\n",
       "      <td>0.065870</td>\n",
       "      <td>0.001992</td>\n",
       "      <td>0.003091</td>\n",
       "      <td>0.063397</td>\n",
       "      <td>0.001099</td>\n",
       "      <td>0.006937</td>\n",
       "      <td>0.000206</td>\n",
       "      <td>13</td>\n",
       "      <td>4</td>\n",
       "      <td>1</td>\n",
       "      <td>...</td>\n",
       "      <td>2599.0</td>\n",
       "      <td>0.023079</td>\n",
       "      <td>0.066282</td>\n",
       "      <td>0.021087</td>\n",
       "      <td>0.025483</td>\n",
       "      <td>0.006319</td>\n",
       "      <td>0.003915</td>\n",
       "      <td>0.0</td>\n",
       "      <td>0.003846</td>\n",
       "      <td>14559</td>\n",
       "    </tr>\n",
       "    <tr>\n",
       "      <th>1</th>\n",
       "      <td>0.064633</td>\n",
       "      <td>0.003045</td>\n",
       "      <td>0.001282</td>\n",
       "      <td>0.064847</td>\n",
       "      <td>0.001709</td>\n",
       "      <td>0.008333</td>\n",
       "      <td>0.000374</td>\n",
       "      <td>18</td>\n",
       "      <td>4</td>\n",
       "      <td>1</td>\n",
       "      <td>...</td>\n",
       "      <td>3359.0</td>\n",
       "      <td>0.022221</td>\n",
       "      <td>0.070135</td>\n",
       "      <td>0.024838</td>\n",
       "      <td>0.019497</td>\n",
       "      <td>0.005769</td>\n",
       "      <td>0.004754</td>\n",
       "      <td>0.0</td>\n",
       "      <td>0.006303</td>\n",
       "      <td>18721</td>\n",
       "    </tr>\n",
       "  </tbody>\n",
       "</table>\n",
       "<p>2 rows × 63 columns</p>\n",
       "</div>"
      ],
      "text/plain": [
       "        adj  adj_compare   adj_sup       adv  adv_compare  adv_part   adv_sup  \\\n",
       "0  0.065870     0.001992  0.003091  0.063397     0.001099  0.006937  0.000206   \n",
       "1  0.064633     0.003045  0.001282  0.064847     0.001709  0.008333  0.000374   \n",
       "\n",
       "   avg_sent_len  avg_word_len  best_seller     ...     verb_count  verb_ger  \\\n",
       "0            13             4            1     ...         2599.0  0.023079   \n",
       "1            18             4            1     ...         3359.0  0.022221   \n",
       "\n",
       "   verb_past   verb_pp  verb_sing_pres    wh_adv  wh_determ  wh_poss  \\\n",
       "0   0.066282  0.021087        0.025483  0.006319   0.003915      0.0   \n",
       "1   0.070135  0.024838        0.019497  0.005769   0.004754      0.0   \n",
       "\n",
       "   wh_pronoun  word_count  \n",
       "0    0.003846       14559  \n",
       "1    0.006303       18721  \n",
       "\n",
       "[2 rows x 63 columns]"
      ]
     },
     "execution_count": 570,
     "metadata": {},
     "output_type": "execute_result"
    }
   ],
   "source": [
    "# load training data\n",
    "df = pd.read_csv(path + 'df.csv')\n",
    "del df['Unnamed: 0']\n",
    "#del df['Unnamed: 0.1']\n",
    "\n",
    "# load held-out testing data\n",
    "df_test = pd.read_csv(path + 'df_test.csv')\n",
    "del df_test['Unnamed: 0']\n",
    "\n",
    "df_all = pd.concat([df,df_test], axis=0).reset_index()\n",
    "del df_all['index']\n",
    "\n",
    "print df.shape\n",
    "print df_test.shape\n",
    "print df_all.shape\n",
    "df_all.head(2)"
   ]
  },
  {
   "cell_type": "code",
   "execution_count": 571,
   "metadata": {
    "collapsed": false
   },
   "outputs": [
    {
     "name": "stdout",
     "output_type": "stream",
     "text": [
      "(470, 63)\n",
      "(451, 63)\n"
     ]
    }
   ],
   "source": [
    "# subset the data\n",
    "sf = df_all[df_all['sci_fi']==1]\n",
    "rm = df_all[df_all['sci_fi']==0]\n",
    "print sf.shape\n",
    "print rm.shape"
   ]
  },
  {
   "cell_type": "code",
   "execution_count": 572,
   "metadata": {
    "collapsed": false
   },
   "outputs": [
    {
     "data": {
      "text/plain": [
       "0.49002217294900224"
      ]
     },
     "execution_count": 572,
     "metadata": {},
     "output_type": "execute_result"
    }
   ],
   "source": [
    "rm.best_seller.mean()"
   ]
  },
  {
   "cell_type": "markdown",
   "metadata": {},
   "source": [
    "#### Science-fiction"
   ]
  },
  {
   "cell_type": "code",
   "execution_count": 846,
   "metadata": {
    "collapsed": false
   },
   "outputs": [
    {
     "name": "stdout",
     "output_type": "stream",
     "text": [
      "(470,) (470, 54)\n"
     ]
    }
   ],
   "source": [
    "y_sf = sf['best_seller']\n",
    "X_sf = sf[['avg_sent_len', 'avg_word_len', 'lex_diversity', 'polarity','subjectivity', 'profane','conj_coord',\n",
    "            'determiner', 'exist_there', 'foreign_word','conj_sub_prep', 'adj', 'adj_compare','adj_sup', \n",
    "           'verb_aux','noun', 'noun_prop', 'noun_prop_pural', 'noun_plural', 'predeterm','poss_ending','pronoun_pers',\n",
    "           'pronoun_poss', 'adv', 'adv_compare','adv_sup', 'adv_part', 'inf_to', 'interject', 'verb_base','verb_past',\n",
    "           'verb_ger', 'verb_pp', 'verb_sing_pres','verb_3rd_sing_pres', 'wh_determ', 'wh_pronoun', 'wh_poss','wh_adv',\n",
    "           'verb.body', 'verb.change', 'verb.cognition','verb.communication', 'verb.competition', 'verb.consumption',\n",
    "           'verb.contact', 'verb.creation', 'verb.emotion', 'verb.motion','verb.perception', 'verb.possession', \n",
    "           'verb.social', 'verb.stative','verb.weather']]\n",
    "\n",
    "print y_sf_all.shape, X_sf_all.shape"
   ]
  },
  {
   "cell_type": "code",
   "execution_count": 574,
   "metadata": {
    "collapsed": false
   },
   "outputs": [
    {
     "name": "stdout",
     "output_type": "stream",
     "text": [
      "(329, 54) (329,)\n",
      "(141, 54) (141,)\n"
     ]
    }
   ],
   "source": [
    "X_sf, X_sf_test, y_sf, y_sf_test = train_test_split(X_sf, y_sf, test_size=0.3)\n",
    "\n",
    "print X_sf.shape, y_sf.shape\n",
    "print X_sf_test.shape, y_sf_test.shape"
   ]
  },
  {
   "cell_type": "markdown",
   "metadata": {},
   "source": [
    "#### Random Forest Classifier"
   ]
  },
  {
   "cell_type": "code",
   "execution_count": 624,
   "metadata": {
    "collapsed": false
   },
   "outputs": [
    {
     "name": "stdout",
     "output_type": "stream",
     "text": [
      "Fitting 5 folds for each of 24 candidates, totalling 120 fits\n"
     ]
    },
    {
     "name": "stderr",
     "output_type": "stream",
     "text": [
      "[Parallel(n_jobs=-1)]: Done  42 tasks      | elapsed:   59.6s\n",
      "[Parallel(n_jobs=-1)]: Done 120 out of 120 | elapsed:  2.8min finished\n"
     ]
    },
    {
     "name": "stdout",
     "output_type": "stream",
     "text": [
      "best estimator RandomForestClassifier(bootstrap=True, class_weight=None, criterion='gini',\n",
      "            max_depth=None, max_features=5, max_leaf_nodes=None,\n",
      "            min_samples_leaf=1, min_samples_split=2,\n",
      "            min_weight_fraction_leaf=0.0, n_estimators=1000, n_jobs=1,\n",
      "            oob_score=False, random_state=None, verbose=0,\n",
      "            warm_start=False)\n",
      "\n",
      "best parameters {'max_features': 5, 'n_estimators': 1000, 'max_depth': None}\n",
      "\n",
      "best score 0.942249240122\n"
     ]
    }
   ],
   "source": [
    "rfc = RandomForestClassifier()\n",
    "rf_params = {\n",
    "    'max_features':['log2','sqrt', 2,3,4,5],\n",
    "    'max_depth':[2,3,4, None],\n",
    "    #'min_samples_leaf':np.linspace(1,30,20),\n",
    "    'n_estimators':[1000]\n",
    "}\n",
    "\n",
    "rf_gs_sf = GridSearchCV(rfc, rf_params, cv=5, verbose=1, n_jobs=-1)\n",
    "rf_model_sf = rf_gs_sf.fit(X_sf, y_sf) \n",
    "\n",
    "rf_proba_sf = rf_model_sf.predict_log_proba(X_sf_test)\n",
    "y_sf_pp = rf_model_sf.predict_log_proba(X_sf_test)[:,1]\n",
    "\n",
    "rfc_best_sf = rf_gs_sf.best_estimator_\n",
    "print \"best estimator\", rfc_best_sf\n",
    "print \n",
    "print \"best parameters\",  rf_gs_sf.best_params_\n",
    "print \n",
    "print \"best score\", rf_gs_sf.best_score_"
   ]
  },
  {
   "cell_type": "code",
   "execution_count": 635,
   "metadata": {
    "collapsed": false
   },
   "outputs": [
    {
     "name": "stdout",
     "output_type": "stream",
     "text": [
      "score on testing data 0.950354609929\n"
     ]
    }
   ],
   "source": [
    "print \"score on testing data\", rfc_best_sf.score(X_sf_test, y_sf_test)"
   ]
  },
  {
   "cell_type": "code",
   "execution_count": 733,
   "metadata": {
    "collapsed": false
   },
   "outputs": [
    {
     "data": {
      "text/html": [
       "<div>\n",
       "<table border=\"1\" class=\"dataframe\">\n",
       "  <thead>\n",
       "    <tr style=\"text-align: right;\">\n",
       "      <th></th>\n",
       "      <th>feature</th>\n",
       "      <th>importance</th>\n",
       "    </tr>\n",
       "  </thead>\n",
       "  <tbody>\n",
       "    <tr>\n",
       "      <th>20</th>\n",
       "      <td>poss_ending</td>\n",
       "      <td>0.088046</td>\n",
       "    </tr>\n",
       "    <tr>\n",
       "      <th>2</th>\n",
       "      <td>lex_diversity</td>\n",
       "      <td>0.062716</td>\n",
       "    </tr>\n",
       "    <tr>\n",
       "      <th>22</th>\n",
       "      <td>pronoun_poss</td>\n",
       "      <td>0.052336</td>\n",
       "    </tr>\n",
       "    <tr>\n",
       "      <th>16</th>\n",
       "      <td>noun_prop</td>\n",
       "      <td>0.046092</td>\n",
       "    </tr>\n",
       "    <tr>\n",
       "      <th>27</th>\n",
       "      <td>inf_to</td>\n",
       "      <td>0.037255</td>\n",
       "    </tr>\n",
       "    <tr>\n",
       "      <th>7</th>\n",
       "      <td>determiner</td>\n",
       "      <td>0.033713</td>\n",
       "    </tr>\n",
       "    <tr>\n",
       "      <th>14</th>\n",
       "      <td>verb_aux</td>\n",
       "      <td>0.033416</td>\n",
       "    </tr>\n",
       "    <tr>\n",
       "      <th>50</th>\n",
       "      <td>verb.possession</td>\n",
       "      <td>0.027008</td>\n",
       "    </tr>\n",
       "    <tr>\n",
       "      <th>30</th>\n",
       "      <td>verb_past</td>\n",
       "      <td>0.026765</td>\n",
       "    </tr>\n",
       "    <tr>\n",
       "      <th>47</th>\n",
       "      <td>verb.emotion</td>\n",
       "      <td>0.025299</td>\n",
       "    </tr>\n",
       "  </tbody>\n",
       "</table>\n",
       "</div>"
      ],
      "text/plain": [
       "            feature  importance\n",
       "20      poss_ending    0.088046\n",
       "2     lex_diversity    0.062716\n",
       "22     pronoun_poss    0.052336\n",
       "16        noun_prop    0.046092\n",
       "27           inf_to    0.037255\n",
       "7        determiner    0.033713\n",
       "14         verb_aux    0.033416\n",
       "50  verb.possession    0.027008\n",
       "30        verb_past    0.026765\n",
       "47     verb.emotion    0.025299"
      ]
     },
     "execution_count": 733,
     "metadata": {},
     "output_type": "execute_result"
    }
   ],
   "source": [
    "## Print Feature importances\n",
    "feature_importance_sf = pd.DataFrame({ 'feature':X_sf.columns, \n",
    "                                   'importance':rfc_best_sf.feature_importances_\n",
    "                                  })\n",
    "\n",
    "feature_importance_sf.sort_values('importance', ascending=False, inplace=True)\n",
    "feature_importance_sf.head(10)"
   ]
  },
  {
   "cell_type": "code",
   "execution_count": 864,
   "metadata": {
    "collapsed": false
   },
   "outputs": [
    {
     "data": {
      "text/html": [
       "<div>\n",
       "<table border=\"1\" class=\"dataframe\">\n",
       "  <thead>\n",
       "    <tr style=\"text-align: right;\">\n",
       "      <th></th>\n",
       "      <th>feature</th>\n",
       "      <th>importance</th>\n",
       "    </tr>\n",
       "  </thead>\n",
       "  <tbody>\n",
       "    <tr>\n",
       "      <th>53</th>\n",
       "      <td>verb.weather</td>\n",
       "      <td>0.007040</td>\n",
       "    </tr>\n",
       "    <tr>\n",
       "      <th>5</th>\n",
       "      <td>profane</td>\n",
       "      <td>0.002020</td>\n",
       "    </tr>\n",
       "    <tr>\n",
       "      <th>1</th>\n",
       "      <td>avg_word_len</td>\n",
       "      <td>0.000118</td>\n",
       "    </tr>\n",
       "  </tbody>\n",
       "</table>\n",
       "</div>"
      ],
      "text/plain": [
       "         feature  importance\n",
       "53  verb.weather    0.007040\n",
       "5        profane    0.002020\n",
       "1   avg_word_len    0.000118"
      ]
     },
     "execution_count": 864,
     "metadata": {},
     "output_type": "execute_result"
    }
   ],
   "source": [
    "feature_importance_sf.tail(3)"
   ]
  },
  {
   "cell_type": "code",
   "execution_count": 858,
   "metadata": {
    "collapsed": false
   },
   "outputs": [
    {
     "data": {
      "text/plain": [
       "<matplotlib.figure.Figure at 0x134bd53d0>"
      ]
     },
     "metadata": {},
     "output_type": "display_data"
    },
    {
     "data": {
      "image/png": "[encoded data removed]",
      "text/plain": [
       "<matplotlib.figure.Figure at 0x138e45790>"
      ]
     },
     "metadata": {},
     "output_type": "display_data"
    }
   ],
   "source": [
    "feat = feature_importance_sf.set_index('feature')\n",
    "sns.set_style(\"whitegrid\")\n",
    "plt.figure(figsize=(12, 6))\n",
    "bar_width = 0.35\n",
    "feat.sort_values('importance', ascending=0).head(6).plot(kind='barh', figsize=(14,5),fontsize=12)\n",
    "plt.xlabel('Weight',fontsize=14)\n",
    "plt.ylabel('Features',fontsize=14)\n",
    "plt.title('Science-fiction feature importance: Random Forest',fontsize=18)\n",
    "plt.tight_layout()\n",
    "plt.show()"
   ]
  },
  {
   "cell_type": "code",
   "execution_count": 629,
   "metadata": {
    "collapsed": false
   },
   "outputs": [
    {
     "name": "stdout",
     "output_type": "stream",
     "text": [
      "(141,) (141,)\n",
      "             precision    recall  f1-score   support\n",
      "\n",
      "          0       0.66      0.94      0.78        67\n",
      "          1       0.91      0.57      0.70        74\n",
      "\n",
      "avg / total       0.79      0.74      0.74       141\n",
      "\n"
     ]
    }
   ],
   "source": [
    "y_sf_pred_rfc= rfc_best.predict(X_sf_test)\n",
    "\n",
    "print y_sf_pred_rfc.shape, y_sf_test.shape\n",
    "\n",
    "cls_rep = classification_report(y_sf_test, y_sf_pred_rfc)\n",
    "print cls_rep "
   ]
  },
  {
   "cell_type": "code",
   "execution_count": 630,
   "metadata": {
    "collapsed": false
   },
   "outputs": [
    {
     "data": {
      "image/png": "[encoded data removed]",
      "text/plain": [
       "<matplotlib.figure.Figure at 0x1309a4bd0>"
      ]
     },
     "metadata": {},
     "output_type": "display_data"
    }
   ],
   "source": [
    "plot_roc_curve(target=y_sf_test, predict_proba=rf_proba_sf[:,1], title='Science-fiction best-seller prediction')"
   ]
  },
  {
   "cell_type": "markdown",
   "metadata": {},
   "source": [
    "#### Romance"
   ]
  },
  {
   "cell_type": "code",
   "execution_count": 631,
   "metadata": {
    "collapsed": false
   },
   "outputs": [
    {
     "name": "stdout",
     "output_type": "stream",
     "text": [
      "(451,) (451, 54)\n"
     ]
    }
   ],
   "source": [
    "y_rm = rm['best_seller']\n",
    "X_rm = rm[['avg_sent_len', 'avg_word_len', 'lex_diversity', 'polarity','subjectivity', 'profane','conj_coord',\n",
    "            'determiner', 'exist_there', 'foreign_word','conj_sub_prep', 'adj', 'adj_compare','adj_sup', \n",
    "           'verb_aux','noun', 'noun_prop', 'noun_prop_pural', 'noun_plural', 'predeterm','poss_ending','pronoun_pers',\n",
    "           'pronoun_poss', 'adv', 'adv_compare','adv_sup', 'adv_part', 'inf_to', 'interject', 'verb_base','verb_past',\n",
    "           'verb_ger', 'verb_pp', 'verb_sing_pres','verb_3rd_sing_pres', 'wh_determ', 'wh_pronoun', 'wh_poss','wh_adv',\n",
    "           'verb.body', 'verb.change', 'verb.cognition','verb.communication', 'verb.competition', 'verb.consumption',\n",
    "           'verb.contact', 'verb.creation', 'verb.emotion', 'verb.motion','verb.perception', 'verb.possession', \n",
    "           'verb.social', 'verb.stative','verb.weather']]\n",
    "\n",
    "\n",
    "print y_rm.shape, X_rm.shape"
   ]
  },
  {
   "cell_type": "code",
   "execution_count": 632,
   "metadata": {
    "collapsed": false
   },
   "outputs": [
    {
     "name": "stdout",
     "output_type": "stream",
     "text": [
      "(315, 54) (315,)\n",
      "(136, 54) (136,)\n"
     ]
    }
   ],
   "source": [
    "X_rm, X_rm_test, y_rm, y_rm_test = train_test_split(X_rm, y_rm, test_size=0.3)\n",
    "\n",
    "print X_rm.shape, y_rm.shape\n",
    "print X_rm_test.shape, y_rm_test.shape"
   ]
  },
  {
   "cell_type": "code",
   "execution_count": 633,
   "metadata": {
    "collapsed": false
   },
   "outputs": [
    {
     "name": "stdout",
     "output_type": "stream",
     "text": [
      "Fitting 5 folds for each of 12 candidates, totalling 60 fits\n"
     ]
    },
    {
     "name": "stderr",
     "output_type": "stream",
     "text": [
      "[Parallel(n_jobs=-1)]: Done  42 tasks      | elapsed:  1.1min\n",
      "[Parallel(n_jobs=-1)]: Done  60 out of  60 | elapsed:  1.5min finished\n"
     ]
    },
    {
     "name": "stdout",
     "output_type": "stream",
     "text": [
      "best estimator RandomForestClassifier(bootstrap=True, class_weight=None, criterion='gini',\n",
      "            max_depth=None, max_features='log2', max_leaf_nodes=None,\n",
      "            min_samples_leaf=1, min_samples_split=2,\n",
      "            min_weight_fraction_leaf=0.0, n_estimators=1000, n_jobs=1,\n",
      "            oob_score=False, random_state=None, verbose=0,\n",
      "            warm_start=False)\n",
      "\n",
      "best parameters {'max_features': 'log2', 'n_estimators': 1000, 'max_depth': None}\n",
      "\n",
      "best score 0.926984126984\n"
     ]
    }
   ],
   "source": [
    "rfc = RandomForestClassifier()\n",
    "# rf_params = {\n",
    "#     'max_features':['log2','sqrt', 2,3,4,5],\n",
    "#     'max_depth':[1,2,3,4],\n",
    "#     'min_samples_leaf':np.linspace(1,20,10),\n",
    "#     'n_estimators':[100]\n",
    "# }\n",
    "rf_params = {\n",
    "    'max_features':['log2','sqrt'],\n",
    "    'max_depth':[5,6,7,8,9,None],\n",
    "    'n_estimators':[1000]\n",
    "}\n",
    "\n",
    "rf_gs_rm = GridSearchCV(rfc, rf_params, cv=5, verbose=1, n_jobs=-1)\n",
    "rf_model_rm = rf_gs_rm.fit(X_rm, y_rm) \n",
    "\n",
    "rf_proba_rm = rf_model_rm.predict_log_proba(X_rm_test)\n",
    "\n",
    "rfc_best_rm = rf_gs_rm.best_estimator_\n",
    "\n",
    "print \"best estimator\", rfc_best_rm\n",
    "print \n",
    "print \"best parameters\",  rf_gs_rm.best_params_\n",
    "print \n",
    "print \"best score\", rf_gs_rm.best_score_"
   ]
  },
  {
   "cell_type": "code",
   "execution_count": 636,
   "metadata": {
    "collapsed": false
   },
   "outputs": [
    {
     "name": "stdout",
     "output_type": "stream",
     "text": [
      "score on testing data 0.933823529412\n"
     ]
    }
   ],
   "source": [
    "print \"score on testing data\", rfc_best_rm.score(X_rm_test, y_rm_test)"
   ]
  },
  {
   "cell_type": "code",
   "execution_count": 735,
   "metadata": {
    "collapsed": false
   },
   "outputs": [
    {
     "data": {
      "text/html": [
       "<div>\n",
       "<table border=\"1\" class=\"dataframe\">\n",
       "  <thead>\n",
       "    <tr style=\"text-align: right;\">\n",
       "      <th></th>\n",
       "      <th>feature</th>\n",
       "      <th>importance</th>\n",
       "    </tr>\n",
       "  </thead>\n",
       "  <tbody>\n",
       "    <tr>\n",
       "      <th>2</th>\n",
       "      <td>lex_diversity</td>\n",
       "      <td>0.070802</td>\n",
       "    </tr>\n",
       "    <tr>\n",
       "      <th>30</th>\n",
       "      <td>verb_past</td>\n",
       "      <td>0.041514</td>\n",
       "    </tr>\n",
       "    <tr>\n",
       "      <th>26</th>\n",
       "      <td>adv_part</td>\n",
       "      <td>0.038070</td>\n",
       "    </tr>\n",
       "    <tr>\n",
       "      <th>25</th>\n",
       "      <td>adv_sup</td>\n",
       "      <td>0.034204</td>\n",
       "    </tr>\n",
       "    <tr>\n",
       "      <th>31</th>\n",
       "      <td>verb_ger</td>\n",
       "      <td>0.031437</td>\n",
       "    </tr>\n",
       "    <tr>\n",
       "      <th>6</th>\n",
       "      <td>conj_coord</td>\n",
       "      <td>0.027474</td>\n",
       "    </tr>\n",
       "    <tr>\n",
       "      <th>17</th>\n",
       "      <td>noun_prop_pural</td>\n",
       "      <td>0.026662</td>\n",
       "    </tr>\n",
       "    <tr>\n",
       "      <th>50</th>\n",
       "      <td>verb.possession</td>\n",
       "      <td>0.025712</td>\n",
       "    </tr>\n",
       "    <tr>\n",
       "      <th>22</th>\n",
       "      <td>pronoun_poss</td>\n",
       "      <td>0.024990</td>\n",
       "    </tr>\n",
       "    <tr>\n",
       "      <th>49</th>\n",
       "      <td>verb.perception</td>\n",
       "      <td>0.020447</td>\n",
       "    </tr>\n",
       "  </tbody>\n",
       "</table>\n",
       "</div>"
      ],
      "text/plain": [
       "            feature  importance\n",
       "2     lex_diversity    0.070802\n",
       "30        verb_past    0.041514\n",
       "26         adv_part    0.038070\n",
       "25          adv_sup    0.034204\n",
       "31         verb_ger    0.031437\n",
       "6        conj_coord    0.027474\n",
       "17  noun_prop_pural    0.026662\n",
       "50  verb.possession    0.025712\n",
       "22     pronoun_poss    0.024990\n",
       "49  verb.perception    0.020447"
      ]
     },
     "execution_count": 735,
     "metadata": {},
     "output_type": "execute_result"
    }
   ],
   "source": [
    "## Print Feature importances\n",
    "feature_importance_rm = pd.DataFrame({ 'feature':X_rm.columns, \n",
    "                                   'importance':rfc_best_rm.feature_importances_\n",
    "                                  })\n",
    "\n",
    "feature_importance_rm.sort_values('importance', ascending=False, inplace=True)\n",
    "feature_importance_rm.head(10)"
   ]
  },
  {
   "cell_type": "code",
   "execution_count": 863,
   "metadata": {
    "collapsed": false
   },
   "outputs": [
    {
     "data": {
      "text/html": [
       "<div>\n",
       "<table border=\"1\" class=\"dataframe\">\n",
       "  <thead>\n",
       "    <tr style=\"text-align: right;\">\n",
       "      <th></th>\n",
       "      <th>feature</th>\n",
       "      <th>importance</th>\n",
       "    </tr>\n",
       "  </thead>\n",
       "  <tbody>\n",
       "    <tr>\n",
       "      <th>5</th>\n",
       "      <td>profane</td>\n",
       "      <td>0.009034</td>\n",
       "    </tr>\n",
       "    <tr>\n",
       "      <th>1</th>\n",
       "      <td>avg_word_len</td>\n",
       "      <td>0.009012</td>\n",
       "    </tr>\n",
       "    <tr>\n",
       "      <th>0</th>\n",
       "      <td>avg_sent_len</td>\n",
       "      <td>0.008769</td>\n",
       "    </tr>\n",
       "  </tbody>\n",
       "</table>\n",
       "</div>"
      ],
      "text/plain": [
       "        feature  importance\n",
       "5       profane    0.009034\n",
       "1  avg_word_len    0.009012\n",
       "0  avg_sent_len    0.008769"
      ]
     },
     "execution_count": 863,
     "metadata": {},
     "output_type": "execute_result"
    }
   ],
   "source": [
    "feature_importance_rm.tail(3)"
   ]
  },
  {
   "cell_type": "code",
   "execution_count": 856,
   "metadata": {
    "collapsed": false
   },
   "outputs": [
    {
     "data": {
      "text/plain": [
       "<matplotlib.figure.Figure at 0x13c137450>"
      ]
     },
     "metadata": {},
     "output_type": "display_data"
    },
    {
     "data": {
      "image/png": "[encoded data removed]",
      "text/plain": [
       "<matplotlib.figure.Figure at 0x13c13fb50>"
      ]
     },
     "metadata": {},
     "output_type": "display_data"
    }
   ],
   "source": [
    "feat_rm = feature_importance_rm.set_index('feature')\n",
    "sns.set_style(\"whitegrid\")\n",
    "plt.figure(figsize=(12, 6))\n",
    "bar_width = 0.35\n",
    "feat_rm.sort_values('importance', ascending=0).head(15).plot(kind='barh', figsize=(14,5),fontsize=12)\n",
    "plt.xlabel('Weight',fontsize=14)\n",
    "plt.ylabel('Features',fontsize=14)\n",
    "plt.title('Romance feature importance: Random Forest',fontsize=18)\n",
    "plt.tight_layout()\n",
    "plt.show()"
   ]
  },
  {
   "cell_type": "code",
   "execution_count": 640,
   "metadata": {
    "collapsed": false
   },
   "outputs": [
    {
     "data": {
      "image/png": "[encoded data removed]",
      "text/plain": [
       "<matplotlib.figure.Figure at 0x132380350>"
      ]
     },
     "metadata": {},
     "output_type": "display_data"
    }
   ],
   "source": [
    "plot_roc_curve(target=y_rm_test, predict_proba=rf_proba_rm[:,1], title='Romance best-seller prediction')"
   ]
  },
  {
   "cell_type": "markdown",
   "metadata": {},
   "source": [
    "## Best-seller predictor"
   ]
  },
  {
   "cell_type": "code",
   "execution_count": 603,
   "metadata": {
    "collapsed": false
   },
   "outputs": [],
   "source": [
    "def predict_8ball(mod, X_test, title):\n",
    "    df = pd.DataFrame(['best_seller','probability','title'])\n",
    "    i=0\n",
    "    y_other_pred = mod.predict(X_test)\n",
    "    proba_other = mod.predict_proba(X_test)\n",
    "    for y, p, t in zip(y_other_pred, proba_other, title):\n",
    "        if y==1:\n",
    "            df.ix[i,'best_seller'] = 'best seller'\n",
    "            df.ix[i,'probability'] = p[1]\n",
    "        else:\n",
    "            df.ix[i,'best_seller'] = 'flop'\n",
    "            df.ix[i,'probability'] = p[0]\n",
    "        df.ix[i,'title'] = t\n",
    "        i+=1\n",
    "    del df[0]\n",
    "    return df.sort_values(['best_seller','probability'],ascending=[True,False])\n"
   ]
  },
  {
   "cell_type": "code",
   "execution_count": 816,
   "metadata": {
    "collapsed": false
   },
   "outputs": [],
   "source": [
    "df_other = pd.read_csv(path + 'df_other.csv')\n",
    "del df_other['Unnamed: 0']\n",
    "\n",
    "y_other = df_other['best_seller']\n",
    "X_other = df_other[['avg_sent_len', 'avg_word_len', 'lex_diversity', 'polarity','subjectivity', 'profane','conj_coord',\n",
    "            'determiner', 'exist_there', 'foreign_word','conj_sub_prep', 'adj', 'adj_compare','adj_sup', \n",
    "           'verb_aux','noun', 'noun_prop', 'noun_prop_pural', 'noun_plural', 'predeterm','poss_ending','pronoun_pers',\n",
    "           'pronoun_poss', 'adv', 'adv_compare','adv_sup', 'adv_part', 'inf_to', 'interject', 'verb_base','verb_past',\n",
    "           'verb_ger', 'verb_pp', 'verb_sing_pres','verb_3rd_sing_pres', 'wh_determ', 'wh_pronoun', 'wh_poss','wh_adv',\n",
    "           'verb.body', 'verb.change', 'verb.cognition','verb.communication', 'verb.competition', 'verb.consumption',\n",
    "           'verb.contact', 'verb.creation', 'verb.emotion', 'verb.motion','verb.perception', 'verb.possession', \n",
    "           'verb.social', 'verb.stative','verb.weather']]\n"
   ]
  },
  {
   "cell_type": "code",
   "execution_count": 818,
   "metadata": {
    "collapsed": false
   },
   "outputs": [
    {
     "name": "stderr",
     "output_type": "stream",
     "text": [
      "/Users/katbishop/anaconda/envs/dsi/lib/python2.7/site-packages/sklearn/utils/validation.py:386: DeprecationWarning: Passing 1d arrays as data is deprecated in 0.17 and willraise ValueError in 0.19. Reshape your data either using X.reshape(-1, 1) if your data has a single feature or X.reshape(1, -1) if it contains a single sample.\n",
      "  DeprecationWarning)\n",
      "/Users/katbishop/anaconda/envs/dsi/lib/python2.7/site-packages/sklearn/utils/validation.py:386: DeprecationWarning: Passing 1d arrays as data is deprecated in 0.17 and willraise ValueError in 0.19. Reshape your data either using X.reshape(-1, 1) if your data has a single feature or X.reshape(1, -1) if it contains a single sample.\n",
      "  DeprecationWarning)\n"
     ]
    },
    {
     "data": {
      "text/html": [
       "<div>\n",
       "<table border=\"1\" class=\"dataframe\">\n",
       "  <thead>\n",
       "    <tr style=\"text-align: right;\">\n",
       "      <th></th>\n",
       "      <th>best_seller</th>\n",
       "      <th>probability</th>\n",
       "      <th>title</th>\n",
       "    </tr>\n",
       "  </thead>\n",
       "  <tbody>\n",
       "    <tr>\n",
       "      <th>0</th>\n",
       "      <td>best seller</td>\n",
       "      <td>0.773</td>\n",
       "      <td>a plate of wheat for three sad tigers - ja</td>\n",
       "    </tr>\n",
       "  </tbody>\n",
       "</table>\n",
       "</div>"
      ],
      "text/plain": [
       "   best_seller  probability                                       title\n",
       "0  best seller        0.773  a plate of wheat for three sad tigers - ja"
      ]
     },
     "execution_count": 818,
     "metadata": {},
     "output_type": "execute_result"
    }
   ],
   "source": [
    "predict_8ball(rf_model_rm, X_other.ix[0,:],df_other['title']).head(1)"
   ]
  },
  {
   "cell_type": "code",
   "execution_count": 651,
   "metadata": {
    "collapsed": false
   },
   "outputs": [
    {
     "name": "stdout",
     "output_type": "stream",
     "text": [
      "(470, 63)\n"
     ]
    }
   ],
   "source": [
    "print sf.shape\n",
    "\n",
    "y_all = sf['best_seller']\n",
    "X_all = sf[['avg_sent_len', 'avg_word_len', 'lex_diversity', 'polarity','subjectivity', 'profane','conj_coord',\n",
    "            'determiner', 'exist_there', 'foreign_word','conj_sub_prep', 'adj', 'adj_compare','adj_sup', \n",
    "           'verb_aux','noun', 'noun_prop', 'noun_prop_pural', 'noun_plural', 'predeterm','poss_ending','pronoun_pers',\n",
    "           'pronoun_poss', 'adv', 'adv_compare','adv_sup', 'adv_part', 'inf_to', 'interject', 'verb_base','verb_past',\n",
    "           'verb_ger', 'verb_pp', 'verb_sing_pres','verb_3rd_sing_pres', 'wh_determ', 'wh_pronoun', 'wh_poss','wh_adv',\n",
    "           'verb.body', 'verb.change', 'verb.cognition','verb.communication', 'verb.competition', 'verb.consumption',\n",
    "           'verb.contact', 'verb.creation', 'verb.emotion', 'verb.motion','verb.perception', 'verb.possession', \n",
    "           'verb.social', 'verb.stative','verb.weather']]\n",
    "\n",
    "results_sf = predict_8ball(rf_model_sf, X_all, sf['title'])\n"
   ]
  },
  {
   "cell_type": "code",
   "execution_count": 885,
   "metadata": {
    "collapsed": false
   },
   "outputs": [
    {
     "data": {
      "text/html": [
       "<div>\n",
       "<table border=\"1\" class=\"dataframe\">\n",
       "  <thead>\n",
       "    <tr style=\"text-align: right;\">\n",
       "      <th></th>\n",
       "      <th>best_seller</th>\n",
       "      <th>probability</th>\n",
       "      <th>title</th>\n",
       "    </tr>\n",
       "  </thead>\n",
       "  <tbody>\n",
       "    <tr>\n",
       "      <th>0</th>\n",
       "      <td>best seller</td>\n",
       "      <td>0.517</td>\n",
       "      <td>2312 - kim stanley robinson1</td>\n",
       "    </tr>\n",
       "    <tr>\n",
       "      <th>1</th>\n",
       "      <td>best seller</td>\n",
       "      <td>0.670</td>\n",
       "      <td>2312 - kim stanley robinson10</td>\n",
       "    </tr>\n",
       "    <tr>\n",
       "      <th>2</th>\n",
       "      <td>best seller</td>\n",
       "      <td>0.941</td>\n",
       "      <td>2312 - kim stanley robinson2</td>\n",
       "    </tr>\n",
       "    <tr>\n",
       "      <th>3</th>\n",
       "      <td>best seller</td>\n",
       "      <td>0.827</td>\n",
       "      <td>2312 - kim stanley robinson3</td>\n",
       "    </tr>\n",
       "    <tr>\n",
       "      <th>4</th>\n",
       "      <td>flop</td>\n",
       "      <td>0.659</td>\n",
       "      <td>2312 - kim stanley robinson4</td>\n",
       "    </tr>\n",
       "    <tr>\n",
       "      <th>5</th>\n",
       "      <td>best seller</td>\n",
       "      <td>0.870</td>\n",
       "      <td>2312 - kim stanley robinson5</td>\n",
       "    </tr>\n",
       "    <tr>\n",
       "      <th>6</th>\n",
       "      <td>best seller</td>\n",
       "      <td>0.950</td>\n",
       "      <td>2312 - kim stanley robinson6</td>\n",
       "    </tr>\n",
       "    <tr>\n",
       "      <th>7</th>\n",
       "      <td>best seller</td>\n",
       "      <td>0.747</td>\n",
       "      <td>2312 - kim stanley robinson7</td>\n",
       "    </tr>\n",
       "    <tr>\n",
       "      <th>8</th>\n",
       "      <td>best seller</td>\n",
       "      <td>0.924</td>\n",
       "      <td>2312 - kim stanley robinson8</td>\n",
       "    </tr>\n",
       "    <tr>\n",
       "      <th>9</th>\n",
       "      <td>best seller</td>\n",
       "      <td>0.532</td>\n",
       "      <td>2312 - kim stanley robinson9</td>\n",
       "    </tr>\n",
       "    <tr>\n",
       "      <th>10</th>\n",
       "      <td>best seller</td>\n",
       "      <td>0.974</td>\n",
       "      <td>a fire upon the deep - vernor vinge1</td>\n",
       "    </tr>\n",
       "    <tr>\n",
       "      <th>11</th>\n",
       "      <td>best seller</td>\n",
       "      <td>0.918</td>\n",
       "      <td>a fire upon the deep - vernor vinge10</td>\n",
       "    </tr>\n",
       "    <tr>\n",
       "      <th>12</th>\n",
       "      <td>best seller</td>\n",
       "      <td>0.919</td>\n",
       "      <td>a fire upon the deep - vernor vinge2</td>\n",
       "    </tr>\n",
       "    <tr>\n",
       "      <th>13</th>\n",
       "      <td>best seller</td>\n",
       "      <td>0.985</td>\n",
       "      <td>a fire upon the deep - vernor vinge3</td>\n",
       "    </tr>\n",
       "    <tr>\n",
       "      <th>14</th>\n",
       "      <td>best seller</td>\n",
       "      <td>0.981</td>\n",
       "      <td>a fire upon the deep - vernor vinge4</td>\n",
       "    </tr>\n",
       "    <tr>\n",
       "      <th>15</th>\n",
       "      <td>best seller</td>\n",
       "      <td>0.984</td>\n",
       "      <td>a fire upon the deep - vernor vinge5</td>\n",
       "    </tr>\n",
       "    <tr>\n",
       "      <th>16</th>\n",
       "      <td>best seller</td>\n",
       "      <td>0.981</td>\n",
       "      <td>a fire upon the deep - vernor vinge6</td>\n",
       "    </tr>\n",
       "    <tr>\n",
       "      <th>17</th>\n",
       "      <td>best seller</td>\n",
       "      <td>0.984</td>\n",
       "      <td>a fire upon the deep - vernor vinge7</td>\n",
       "    </tr>\n",
       "    <tr>\n",
       "      <th>18</th>\n",
       "      <td>best seller</td>\n",
       "      <td>0.943</td>\n",
       "      <td>a fire upon the deep - vernor vinge8</td>\n",
       "    </tr>\n",
       "    <tr>\n",
       "      <th>19</th>\n",
       "      <td>best seller</td>\n",
       "      <td>0.978</td>\n",
       "      <td>a fire upon the deep - vernor vinge9</td>\n",
       "    </tr>\n",
       "    <tr>\n",
       "      <th>200</th>\n",
       "      <td>flop</td>\n",
       "      <td>0.943</td>\n",
       "      <td>a sum of her parts - dean foster1</td>\n",
       "    </tr>\n",
       "    <tr>\n",
       "      <th>201</th>\n",
       "      <td>flop</td>\n",
       "      <td>0.931</td>\n",
       "      <td>a sum of her parts - dean foster10</td>\n",
       "    </tr>\n",
       "    <tr>\n",
       "      <th>202</th>\n",
       "      <td>flop</td>\n",
       "      <td>0.921</td>\n",
       "      <td>a sum of her parts - dean foster2</td>\n",
       "    </tr>\n",
       "    <tr>\n",
       "      <th>203</th>\n",
       "      <td>flop</td>\n",
       "      <td>0.929</td>\n",
       "      <td>a sum of her parts - dean foster3</td>\n",
       "    </tr>\n",
       "    <tr>\n",
       "      <th>204</th>\n",
       "      <td>flop</td>\n",
       "      <td>0.938</td>\n",
       "      <td>a sum of her parts - dean foster4</td>\n",
       "    </tr>\n",
       "    <tr>\n",
       "      <th>205</th>\n",
       "      <td>flop</td>\n",
       "      <td>0.807</td>\n",
       "      <td>a sum of her parts - dean foster5</td>\n",
       "    </tr>\n",
       "    <tr>\n",
       "      <th>206</th>\n",
       "      <td>flop</td>\n",
       "      <td>0.907</td>\n",
       "      <td>a sum of her parts - dean foster6</td>\n",
       "    </tr>\n",
       "    <tr>\n",
       "      <th>207</th>\n",
       "      <td>flop</td>\n",
       "      <td>0.958</td>\n",
       "      <td>a sum of her parts - dean foster7</td>\n",
       "    </tr>\n",
       "    <tr>\n",
       "      <th>208</th>\n",
       "      <td>flop</td>\n",
       "      <td>0.889</td>\n",
       "      <td>a sum of her parts - dean foster8</td>\n",
       "    </tr>\n",
       "    <tr>\n",
       "      <th>209</th>\n",
       "      <td>flop</td>\n",
       "      <td>0.909</td>\n",
       "      <td>a sum of her parts - dean foster9</td>\n",
       "    </tr>\n",
       "    <tr>\n",
       "      <th>...</th>\n",
       "      <td>...</td>\n",
       "      <td>...</td>\n",
       "      <td>...</td>\n",
       "    </tr>\n",
       "    <tr>\n",
       "      <th>190</th>\n",
       "      <td>best seller</td>\n",
       "      <td>0.879</td>\n",
       "      <td>the windup girl - paolo bacigalupi1</td>\n",
       "    </tr>\n",
       "    <tr>\n",
       "      <th>191</th>\n",
       "      <td>best seller</td>\n",
       "      <td>0.920</td>\n",
       "      <td>the windup girl - paolo bacigalupi10</td>\n",
       "    </tr>\n",
       "    <tr>\n",
       "      <th>192</th>\n",
       "      <td>best seller</td>\n",
       "      <td>0.792</td>\n",
       "      <td>the windup girl - paolo bacigalupi2</td>\n",
       "    </tr>\n",
       "    <tr>\n",
       "      <th>193</th>\n",
       "      <td>best seller</td>\n",
       "      <td>0.923</td>\n",
       "      <td>the windup girl - paolo bacigalupi3</td>\n",
       "    </tr>\n",
       "    <tr>\n",
       "      <th>194</th>\n",
       "      <td>best seller</td>\n",
       "      <td>0.915</td>\n",
       "      <td>the windup girl - paolo bacigalupi4</td>\n",
       "    </tr>\n",
       "    <tr>\n",
       "      <th>195</th>\n",
       "      <td>best seller</td>\n",
       "      <td>0.920</td>\n",
       "      <td>the windup girl - paolo bacigalupi5</td>\n",
       "    </tr>\n",
       "    <tr>\n",
       "      <th>196</th>\n",
       "      <td>best seller</td>\n",
       "      <td>0.918</td>\n",
       "      <td>the windup girl - paolo bacigalupi6</td>\n",
       "    </tr>\n",
       "    <tr>\n",
       "      <th>197</th>\n",
       "      <td>best seller</td>\n",
       "      <td>0.883</td>\n",
       "      <td>the windup girl - paolo bacigalupi7</td>\n",
       "    </tr>\n",
       "    <tr>\n",
       "      <th>198</th>\n",
       "      <td>best seller</td>\n",
       "      <td>0.606</td>\n",
       "      <td>the windup girl - paolo bacigalupi8</td>\n",
       "    </tr>\n",
       "    <tr>\n",
       "      <th>199</th>\n",
       "      <td>best seller</td>\n",
       "      <td>0.905</td>\n",
       "      <td>the windup girl - paolo bacigalupi9</td>\n",
       "    </tr>\n",
       "    <tr>\n",
       "      <th>380</th>\n",
       "      <td>flop</td>\n",
       "      <td>0.903</td>\n",
       "      <td>wild red yonder - keric hill1</td>\n",
       "    </tr>\n",
       "    <tr>\n",
       "      <th>381</th>\n",
       "      <td>flop</td>\n",
       "      <td>0.591</td>\n",
       "      <td>wild red yonder - keric hill10</td>\n",
       "    </tr>\n",
       "    <tr>\n",
       "      <th>382</th>\n",
       "      <td>flop</td>\n",
       "      <td>0.845</td>\n",
       "      <td>wild red yonder - keric hill2</td>\n",
       "    </tr>\n",
       "    <tr>\n",
       "      <th>383</th>\n",
       "      <td>flop</td>\n",
       "      <td>0.672</td>\n",
       "      <td>wild red yonder - keric hill3</td>\n",
       "    </tr>\n",
       "    <tr>\n",
       "      <th>384</th>\n",
       "      <td>flop</td>\n",
       "      <td>0.689</td>\n",
       "      <td>wild red yonder - keric hill4</td>\n",
       "    </tr>\n",
       "    <tr>\n",
       "      <th>385</th>\n",
       "      <td>flop</td>\n",
       "      <td>0.880</td>\n",
       "      <td>wild red yonder - keric hill5</td>\n",
       "    </tr>\n",
       "    <tr>\n",
       "      <th>386</th>\n",
       "      <td>flop</td>\n",
       "      <td>0.867</td>\n",
       "      <td>wild red yonder - keric hill6</td>\n",
       "    </tr>\n",
       "    <tr>\n",
       "      <th>387</th>\n",
       "      <td>flop</td>\n",
       "      <td>0.905</td>\n",
       "      <td>wild red yonder - keric hill7</td>\n",
       "    </tr>\n",
       "    <tr>\n",
       "      <th>388</th>\n",
       "      <td>flop</td>\n",
       "      <td>0.646</td>\n",
       "      <td>wild red yonder - keric hill8</td>\n",
       "    </tr>\n",
       "    <tr>\n",
       "      <th>389</th>\n",
       "      <td>flop</td>\n",
       "      <td>0.884</td>\n",
       "      <td>wild red yonder - keric hill9</td>\n",
       "    </tr>\n",
       "    <tr>\n",
       "      <th>460</th>\n",
       "      <td>flop</td>\n",
       "      <td>0.943</td>\n",
       "      <td>zero - adam moon1</td>\n",
       "    </tr>\n",
       "    <tr>\n",
       "      <th>461</th>\n",
       "      <td>flop</td>\n",
       "      <td>0.930</td>\n",
       "      <td>zero - adam moon10</td>\n",
       "    </tr>\n",
       "    <tr>\n",
       "      <th>462</th>\n",
       "      <td>flop</td>\n",
       "      <td>0.947</td>\n",
       "      <td>zero - adam moon2</td>\n",
       "    </tr>\n",
       "    <tr>\n",
       "      <th>463</th>\n",
       "      <td>flop</td>\n",
       "      <td>0.913</td>\n",
       "      <td>zero - adam moon3</td>\n",
       "    </tr>\n",
       "    <tr>\n",
       "      <th>464</th>\n",
       "      <td>flop</td>\n",
       "      <td>0.912</td>\n",
       "      <td>zero - adam moon4</td>\n",
       "    </tr>\n",
       "    <tr>\n",
       "      <th>465</th>\n",
       "      <td>flop</td>\n",
       "      <td>0.969</td>\n",
       "      <td>zero - adam moon5</td>\n",
       "    </tr>\n",
       "    <tr>\n",
       "      <th>466</th>\n",
       "      <td>flop</td>\n",
       "      <td>0.803</td>\n",
       "      <td>zero - adam moon6</td>\n",
       "    </tr>\n",
       "    <tr>\n",
       "      <th>467</th>\n",
       "      <td>flop</td>\n",
       "      <td>0.917</td>\n",
       "      <td>zero - adam moon7</td>\n",
       "    </tr>\n",
       "    <tr>\n",
       "      <th>468</th>\n",
       "      <td>flop</td>\n",
       "      <td>0.964</td>\n",
       "      <td>zero - adam moon8</td>\n",
       "    </tr>\n",
       "    <tr>\n",
       "      <th>469</th>\n",
       "      <td>flop</td>\n",
       "      <td>0.908</td>\n",
       "      <td>zero - adam moon9</td>\n",
       "    </tr>\n",
       "  </tbody>\n",
       "</table>\n",
       "<p>470 rows × 3 columns</p>\n",
       "</div>"
      ],
      "text/plain": [
       "     best_seller  probability                                  title\n",
       "0    best seller        0.517           2312 - kim stanley robinson1\n",
       "1    best seller        0.670          2312 - kim stanley robinson10\n",
       "2    best seller        0.941           2312 - kim stanley robinson2\n",
       "3    best seller        0.827           2312 - kim stanley robinson3\n",
       "4           flop        0.659           2312 - kim stanley robinson4\n",
       "5    best seller        0.870           2312 - kim stanley robinson5\n",
       "6    best seller        0.950           2312 - kim stanley robinson6\n",
       "7    best seller        0.747           2312 - kim stanley robinson7\n",
       "8    best seller        0.924           2312 - kim stanley robinson8\n",
       "9    best seller        0.532           2312 - kim stanley robinson9\n",
       "10   best seller        0.974   a fire upon the deep - vernor vinge1\n",
       "11   best seller        0.918  a fire upon the deep - vernor vinge10\n",
       "12   best seller        0.919   a fire upon the deep - vernor vinge2\n",
       "13   best seller        0.985   a fire upon the deep - vernor vinge3\n",
       "14   best seller        0.981   a fire upon the deep - vernor vinge4\n",
       "15   best seller        0.984   a fire upon the deep - vernor vinge5\n",
       "16   best seller        0.981   a fire upon the deep - vernor vinge6\n",
       "17   best seller        0.984   a fire upon the deep - vernor vinge7\n",
       "18   best seller        0.943   a fire upon the deep - vernor vinge8\n",
       "19   best seller        0.978   a fire upon the deep - vernor vinge9\n",
       "200         flop        0.943      a sum of her parts - dean foster1\n",
       "201         flop        0.931     a sum of her parts - dean foster10\n",
       "202         flop        0.921      a sum of her parts - dean foster2\n",
       "203         flop        0.929      a sum of her parts - dean foster3\n",
       "204         flop        0.938      a sum of her parts - dean foster4\n",
       "205         flop        0.807      a sum of her parts - dean foster5\n",
       "206         flop        0.907      a sum of her parts - dean foster6\n",
       "207         flop        0.958      a sum of her parts - dean foster7\n",
       "208         flop        0.889      a sum of her parts - dean foster8\n",
       "209         flop        0.909      a sum of her parts - dean foster9\n",
       "..           ...          ...                                    ...\n",
       "190  best seller        0.879    the windup girl - paolo bacigalupi1\n",
       "191  best seller        0.920   the windup girl - paolo bacigalupi10\n",
       "192  best seller        0.792    the windup girl - paolo bacigalupi2\n",
       "193  best seller        0.923    the windup girl - paolo bacigalupi3\n",
       "194  best seller        0.915    the windup girl - paolo bacigalupi4\n",
       "195  best seller        0.920    the windup girl - paolo bacigalupi5\n",
       "196  best seller        0.918    the windup girl - paolo bacigalupi6\n",
       "197  best seller        0.883    the windup girl - paolo bacigalupi7\n",
       "198  best seller        0.606    the windup girl - paolo bacigalupi8\n",
       "199  best seller        0.905    the windup girl - paolo bacigalupi9\n",
       "380         flop        0.903          wild red yonder - keric hill1\n",
       "381         flop        0.591         wild red yonder - keric hill10\n",
       "382         flop        0.845          wild red yonder - keric hill2\n",
       "383         flop        0.672          wild red yonder - keric hill3\n",
       "384         flop        0.689          wild red yonder - keric hill4\n",
       "385         flop        0.880          wild red yonder - keric hill5\n",
       "386         flop        0.867          wild red yonder - keric hill6\n",
       "387         flop        0.905          wild red yonder - keric hill7\n",
       "388         flop        0.646          wild red yonder - keric hill8\n",
       "389         flop        0.884          wild red yonder - keric hill9\n",
       "460         flop        0.943                      zero - adam moon1\n",
       "461         flop        0.930                     zero - adam moon10\n",
       "462         flop        0.947                      zero - adam moon2\n",
       "463         flop        0.913                      zero - adam moon3\n",
       "464         flop        0.912                      zero - adam moon4\n",
       "465         flop        0.969                      zero - adam moon5\n",
       "466         flop        0.803                      zero - adam moon6\n",
       "467         flop        0.917                      zero - adam moon7\n",
       "468         flop        0.964                      zero - adam moon8\n",
       "469         flop        0.908                      zero - adam moon9\n",
       "\n",
       "[470 rows x 3 columns]"
      ]
     },
     "execution_count": 885,
     "metadata": {},
     "output_type": "execute_result"
    }
   ],
   "source": [
    "results_sf.sort_values('title')"
   ]
  },
  {
   "cell_type": "code",
   "execution_count": 653,
   "metadata": {
    "collapsed": false
   },
   "outputs": [
    {
     "data": {
      "text/html": [
       "<div>\n",
       "<table border=\"1\" class=\"dataframe\">\n",
       "  <thead>\n",
       "    <tr style=\"text-align: right;\">\n",
       "      <th></th>\n",
       "      <th>best_seller</th>\n",
       "      <th>probability</th>\n",
       "      <th>title</th>\n",
       "    </tr>\n",
       "  </thead>\n",
       "  <tbody>\n",
       "    <tr>\n",
       "      <th>343</th>\n",
       "      <td>flop</td>\n",
       "      <td>0.972</td>\n",
       "      <td>the best of all possible worlds - karen lord3</td>\n",
       "    </tr>\n",
       "    <tr>\n",
       "      <th>224</th>\n",
       "      <td>flop</td>\n",
       "      <td>0.971</td>\n",
       "      <td>binary - stephanie saulter4</td>\n",
       "    </tr>\n",
       "    <tr>\n",
       "      <th>287</th>\n",
       "      <td>flop</td>\n",
       "      <td>0.971</td>\n",
       "      <td>rising tide - rajan khanna7</td>\n",
       "    </tr>\n",
       "    <tr>\n",
       "      <th>465</th>\n",
       "      <td>flop</td>\n",
       "      <td>0.969</td>\n",
       "      <td>zero - adam moon5</td>\n",
       "    </tr>\n",
       "    <tr>\n",
       "      <th>281</th>\n",
       "      <td>flop</td>\n",
       "      <td>0.966</td>\n",
       "      <td>rising tide - rajan khanna10</td>\n",
       "    </tr>\n",
       "  </tbody>\n",
       "</table>\n",
       "</div>"
      ],
      "text/plain": [
       "    best_seller  probability                                          title\n",
       "343        flop        0.972  the best of all possible worlds - karen lord3\n",
       "224        flop        0.971                    binary - stephanie saulter4\n",
       "287        flop        0.971                    rising tide - rajan khanna7\n",
       "465        flop        0.969                              zero - adam moon5\n",
       "281        flop        0.966                   rising tide - rajan khanna10"
      ]
     },
     "execution_count": 653,
     "metadata": {},
     "output_type": "execute_result"
    }
   ],
   "source": [
    "results_sf[(results_sf['best_seller']=='flop')].head(5)"
   ]
  },
  {
   "cell_type": "code",
   "execution_count": 654,
   "metadata": {
    "collapsed": false,
    "scrolled": true
   },
   "outputs": [],
   "source": [
    "y_all = rm['best_seller']\n",
    "X_all = rm[['avg_sent_len', 'avg_word_len', 'lex_diversity', 'polarity','subjectivity', 'profane','conj_coord',\n",
    "            'determiner', 'exist_there', 'foreign_word','conj_sub_prep', 'adj', 'adj_compare','adj_sup', \n",
    "           'verb_aux','noun', 'noun_prop', 'noun_prop_pural', 'noun_plural', 'predeterm','poss_ending','pronoun_pers',\n",
    "           'pronoun_poss', 'adv', 'adv_compare','adv_sup', 'adv_part', 'inf_to', 'interject', 'verb_base','verb_past',\n",
    "           'verb_ger', 'verb_pp', 'verb_sing_pres','verb_3rd_sing_pres', 'wh_determ', 'wh_pronoun', 'wh_poss','wh_adv',\n",
    "           'verb.body', 'verb.change', 'verb.cognition','verb.communication', 'verb.competition', 'verb.consumption',\n",
    "           'verb.contact', 'verb.creation', 'verb.emotion', 'verb.motion','verb.perception', 'verb.possession', \n",
    "           'verb.social', 'verb.stative','verb.weather']]\n",
    "\n",
    "results_rm = predict_8ball(rf_model_rm, X_all, rm['title'])\n"
   ]
  },
  {
   "cell_type": "code",
   "execution_count": 886,
   "metadata": {
    "collapsed": false
   },
   "outputs": [
    {
     "data": {
      "text/html": [
       "<div>\n",
       "<table border=\"1\" class=\"dataframe\">\n",
       "  <thead>\n",
       "    <tr style=\"text-align: right;\">\n",
       "      <th></th>\n",
       "      <th>best_seller</th>\n",
       "      <th>probability</th>\n",
       "      <th>title</th>\n",
       "    </tr>\n",
       "  </thead>\n",
       "  <tbody>\n",
       "    <tr>\n",
       "      <th>190</th>\n",
       "      <td>flop</td>\n",
       "      <td>0.680</td>\n",
       "      <td>a heart too proud - laura london1</td>\n",
       "    </tr>\n",
       "    <tr>\n",
       "      <th>191</th>\n",
       "      <td>flop</td>\n",
       "      <td>0.831</td>\n",
       "      <td>a heart too proud - laura london10</td>\n",
       "    </tr>\n",
       "    <tr>\n",
       "      <th>192</th>\n",
       "      <td>flop</td>\n",
       "      <td>0.861</td>\n",
       "      <td>a heart too proud - laura london2</td>\n",
       "    </tr>\n",
       "    <tr>\n",
       "      <th>193</th>\n",
       "      <td>flop</td>\n",
       "      <td>0.833</td>\n",
       "      <td>a heart too proud - laura london3</td>\n",
       "    </tr>\n",
       "    <tr>\n",
       "      <th>194</th>\n",
       "      <td>flop</td>\n",
       "      <td>0.829</td>\n",
       "      <td>a heart too proud - laura london4</td>\n",
       "    </tr>\n",
       "    <tr>\n",
       "      <th>195</th>\n",
       "      <td>flop</td>\n",
       "      <td>0.540</td>\n",
       "      <td>a heart too proud - laura london5</td>\n",
       "    </tr>\n",
       "    <tr>\n",
       "      <th>196</th>\n",
       "      <td>flop</td>\n",
       "      <td>0.648</td>\n",
       "      <td>a heart too proud - laura london6</td>\n",
       "    </tr>\n",
       "    <tr>\n",
       "      <th>197</th>\n",
       "      <td>flop</td>\n",
       "      <td>0.894</td>\n",
       "      <td>a heart too proud - laura london7</td>\n",
       "    </tr>\n",
       "    <tr>\n",
       "      <th>198</th>\n",
       "      <td>flop</td>\n",
       "      <td>0.669</td>\n",
       "      <td>a heart too proud - laura london8</td>\n",
       "    </tr>\n",
       "    <tr>\n",
       "      <th>199</th>\n",
       "      <td>flop</td>\n",
       "      <td>0.857</td>\n",
       "      <td>a heart too proud - laura london9</td>\n",
       "    </tr>\n",
       "    <tr>\n",
       "      <th>0</th>\n",
       "      <td>best seller</td>\n",
       "      <td>0.941</td>\n",
       "      <td>a new hope - robyn carr1</td>\n",
       "    </tr>\n",
       "    <tr>\n",
       "      <th>1</th>\n",
       "      <td>best seller</td>\n",
       "      <td>0.794</td>\n",
       "      <td>a new hope - robyn carr10</td>\n",
       "    </tr>\n",
       "    <tr>\n",
       "      <th>2</th>\n",
       "      <td>best seller</td>\n",
       "      <td>0.881</td>\n",
       "      <td>a new hope - robyn carr2</td>\n",
       "    </tr>\n",
       "    <tr>\n",
       "      <th>3</th>\n",
       "      <td>best seller</td>\n",
       "      <td>0.789</td>\n",
       "      <td>a new hope - robyn carr3</td>\n",
       "    </tr>\n",
       "    <tr>\n",
       "      <th>4</th>\n",
       "      <td>best seller</td>\n",
       "      <td>0.940</td>\n",
       "      <td>a new hope - robyn carr4</td>\n",
       "    </tr>\n",
       "    <tr>\n",
       "      <th>5</th>\n",
       "      <td>best seller</td>\n",
       "      <td>0.730</td>\n",
       "      <td>a new hope - robyn carr5</td>\n",
       "    </tr>\n",
       "    <tr>\n",
       "      <th>6</th>\n",
       "      <td>best seller</td>\n",
       "      <td>0.858</td>\n",
       "      <td>a new hope - robyn carr6</td>\n",
       "    </tr>\n",
       "    <tr>\n",
       "      <th>7</th>\n",
       "      <td>best seller</td>\n",
       "      <td>0.906</td>\n",
       "      <td>a new hope - robyn carr7</td>\n",
       "    </tr>\n",
       "    <tr>\n",
       "      <th>8</th>\n",
       "      <td>best seller</td>\n",
       "      <td>0.921</td>\n",
       "      <td>a new hope - robyn carr8</td>\n",
       "    </tr>\n",
       "    <tr>\n",
       "      <th>9</th>\n",
       "      <td>best seller</td>\n",
       "      <td>0.948</td>\n",
       "      <td>a new hope - robyn carr9</td>\n",
       "    </tr>\n",
       "    <tr>\n",
       "      <th>200</th>\n",
       "      <td>flop</td>\n",
       "      <td>0.695</td>\n",
       "      <td>a stillness of chimes - meg moseley1</td>\n",
       "    </tr>\n",
       "    <tr>\n",
       "      <th>201</th>\n",
       "      <td>flop</td>\n",
       "      <td>0.905</td>\n",
       "      <td>a stillness of chimes - meg moseley10</td>\n",
       "    </tr>\n",
       "    <tr>\n",
       "      <th>202</th>\n",
       "      <td>flop</td>\n",
       "      <td>0.666</td>\n",
       "      <td>a stillness of chimes - meg moseley2</td>\n",
       "    </tr>\n",
       "    <tr>\n",
       "      <th>203</th>\n",
       "      <td>flop</td>\n",
       "      <td>0.887</td>\n",
       "      <td>a stillness of chimes - meg moseley3</td>\n",
       "    </tr>\n",
       "    <tr>\n",
       "      <th>204</th>\n",
       "      <td>flop</td>\n",
       "      <td>0.873</td>\n",
       "      <td>a stillness of chimes - meg moseley4</td>\n",
       "    </tr>\n",
       "    <tr>\n",
       "      <th>205</th>\n",
       "      <td>flop</td>\n",
       "      <td>0.523</td>\n",
       "      <td>a stillness of chimes - meg moseley5</td>\n",
       "    </tr>\n",
       "    <tr>\n",
       "      <th>206</th>\n",
       "      <td>flop</td>\n",
       "      <td>0.652</td>\n",
       "      <td>a stillness of chimes - meg moseley6</td>\n",
       "    </tr>\n",
       "    <tr>\n",
       "      <th>207</th>\n",
       "      <td>flop</td>\n",
       "      <td>0.843</td>\n",
       "      <td>a stillness of chimes - meg moseley7</td>\n",
       "    </tr>\n",
       "    <tr>\n",
       "      <th>208</th>\n",
       "      <td>flop</td>\n",
       "      <td>0.523</td>\n",
       "      <td>a stillness of chimes - meg moseley8</td>\n",
       "    </tr>\n",
       "    <tr>\n",
       "      <th>209</th>\n",
       "      <td>flop</td>\n",
       "      <td>0.854</td>\n",
       "      <td>a stillness of chimes - meg moseley9</td>\n",
       "    </tr>\n",
       "    <tr>\n",
       "      <th>...</th>\n",
       "      <td>...</td>\n",
       "      <td>...</td>\n",
       "      <td>...</td>\n",
       "    </tr>\n",
       "    <tr>\n",
       "      <th>160</th>\n",
       "      <td>best seller</td>\n",
       "      <td>0.826</td>\n",
       "      <td>the notebook - nicolas sparks1</td>\n",
       "    </tr>\n",
       "    <tr>\n",
       "      <th>161</th>\n",
       "      <td>best seller</td>\n",
       "      <td>0.859</td>\n",
       "      <td>the notebook - nicolas sparks10</td>\n",
       "    </tr>\n",
       "    <tr>\n",
       "      <th>162</th>\n",
       "      <td>flop</td>\n",
       "      <td>0.559</td>\n",
       "      <td>the notebook - nicolas sparks2</td>\n",
       "    </tr>\n",
       "    <tr>\n",
       "      <th>163</th>\n",
       "      <td>flop</td>\n",
       "      <td>0.581</td>\n",
       "      <td>the notebook - nicolas sparks3</td>\n",
       "    </tr>\n",
       "    <tr>\n",
       "      <th>164</th>\n",
       "      <td>flop</td>\n",
       "      <td>0.528</td>\n",
       "      <td>the notebook - nicolas sparks4</td>\n",
       "    </tr>\n",
       "    <tr>\n",
       "      <th>165</th>\n",
       "      <td>best seller</td>\n",
       "      <td>0.781</td>\n",
       "      <td>the notebook - nicolas sparks5</td>\n",
       "    </tr>\n",
       "    <tr>\n",
       "      <th>166</th>\n",
       "      <td>best seller</td>\n",
       "      <td>0.846</td>\n",
       "      <td>the notebook - nicolas sparks6</td>\n",
       "    </tr>\n",
       "    <tr>\n",
       "      <th>167</th>\n",
       "      <td>flop</td>\n",
       "      <td>0.634</td>\n",
       "      <td>the notebook - nicolas sparks7</td>\n",
       "    </tr>\n",
       "    <tr>\n",
       "      <th>168</th>\n",
       "      <td>best seller</td>\n",
       "      <td>0.829</td>\n",
       "      <td>the notebook - nicolas sparks8</td>\n",
       "    </tr>\n",
       "    <tr>\n",
       "      <th>169</th>\n",
       "      <td>best seller</td>\n",
       "      <td>0.869</td>\n",
       "      <td>the notebook - nicolas sparks9</td>\n",
       "    </tr>\n",
       "    <tr>\n",
       "      <th>170</th>\n",
       "      <td>best seller</td>\n",
       "      <td>0.769</td>\n",
       "      <td>the rosie project - graeme simsion1</td>\n",
       "    </tr>\n",
       "    <tr>\n",
       "      <th>171</th>\n",
       "      <td>best seller</td>\n",
       "      <td>0.879</td>\n",
       "      <td>the rosie project - graeme simsion10</td>\n",
       "    </tr>\n",
       "    <tr>\n",
       "      <th>172</th>\n",
       "      <td>best seller</td>\n",
       "      <td>0.728</td>\n",
       "      <td>the rosie project - graeme simsion2</td>\n",
       "    </tr>\n",
       "    <tr>\n",
       "      <th>173</th>\n",
       "      <td>best seller</td>\n",
       "      <td>0.866</td>\n",
       "      <td>the rosie project - graeme simsion3</td>\n",
       "    </tr>\n",
       "    <tr>\n",
       "      <th>174</th>\n",
       "      <td>best seller</td>\n",
       "      <td>0.887</td>\n",
       "      <td>the rosie project - graeme simsion4</td>\n",
       "    </tr>\n",
       "    <tr>\n",
       "      <th>175</th>\n",
       "      <td>best seller</td>\n",
       "      <td>0.678</td>\n",
       "      <td>the rosie project - graeme simsion5</td>\n",
       "    </tr>\n",
       "    <tr>\n",
       "      <th>176</th>\n",
       "      <td>best seller</td>\n",
       "      <td>0.904</td>\n",
       "      <td>the rosie project - graeme simsion6</td>\n",
       "    </tr>\n",
       "    <tr>\n",
       "      <th>177</th>\n",
       "      <td>best seller</td>\n",
       "      <td>0.647</td>\n",
       "      <td>the rosie project - graeme simsion7</td>\n",
       "    </tr>\n",
       "    <tr>\n",
       "      <th>178</th>\n",
       "      <td>best seller</td>\n",
       "      <td>0.914</td>\n",
       "      <td>the rosie project - graeme simsion8</td>\n",
       "    </tr>\n",
       "    <tr>\n",
       "      <th>179</th>\n",
       "      <td>best seller</td>\n",
       "      <td>0.871</td>\n",
       "      <td>the rosie project - graeme simsion9</td>\n",
       "    </tr>\n",
       "    <tr>\n",
       "      <th>180</th>\n",
       "      <td>best seller</td>\n",
       "      <td>0.683</td>\n",
       "      <td>the wedding pact - katee robert1</td>\n",
       "    </tr>\n",
       "    <tr>\n",
       "      <th>181</th>\n",
       "      <td>best seller</td>\n",
       "      <td>0.857</td>\n",
       "      <td>the wedding pact - katee robert10</td>\n",
       "    </tr>\n",
       "    <tr>\n",
       "      <th>182</th>\n",
       "      <td>best seller</td>\n",
       "      <td>0.885</td>\n",
       "      <td>the wedding pact - katee robert2</td>\n",
       "    </tr>\n",
       "    <tr>\n",
       "      <th>183</th>\n",
       "      <td>flop</td>\n",
       "      <td>0.542</td>\n",
       "      <td>the wedding pact - katee robert3</td>\n",
       "    </tr>\n",
       "    <tr>\n",
       "      <th>184</th>\n",
       "      <td>best seller</td>\n",
       "      <td>0.629</td>\n",
       "      <td>the wedding pact - katee robert4</td>\n",
       "    </tr>\n",
       "    <tr>\n",
       "      <th>185</th>\n",
       "      <td>best seller</td>\n",
       "      <td>0.571</td>\n",
       "      <td>the wedding pact - katee robert5</td>\n",
       "    </tr>\n",
       "    <tr>\n",
       "      <th>186</th>\n",
       "      <td>best seller</td>\n",
       "      <td>0.941</td>\n",
       "      <td>the wedding pact - katee robert6</td>\n",
       "    </tr>\n",
       "    <tr>\n",
       "      <th>187</th>\n",
       "      <td>best seller</td>\n",
       "      <td>0.706</td>\n",
       "      <td>the wedding pact - katee robert7</td>\n",
       "    </tr>\n",
       "    <tr>\n",
       "      <th>188</th>\n",
       "      <td>best seller</td>\n",
       "      <td>0.911</td>\n",
       "      <td>the wedding pact - katee robert8</td>\n",
       "    </tr>\n",
       "    <tr>\n",
       "      <th>189</th>\n",
       "      <td>best seller</td>\n",
       "      <td>0.667</td>\n",
       "      <td>the wedding pact - katee robert9</td>\n",
       "    </tr>\n",
       "  </tbody>\n",
       "</table>\n",
       "<p>451 rows × 3 columns</p>\n",
       "</div>"
      ],
      "text/plain": [
       "     best_seller  probability                                  title\n",
       "190         flop        0.680      a heart too proud - laura london1\n",
       "191         flop        0.831     a heart too proud - laura london10\n",
       "192         flop        0.861      a heart too proud - laura london2\n",
       "193         flop        0.833      a heart too proud - laura london3\n",
       "194         flop        0.829      a heart too proud - laura london4\n",
       "195         flop        0.540      a heart too proud - laura london5\n",
       "196         flop        0.648      a heart too proud - laura london6\n",
       "197         flop        0.894      a heart too proud - laura london7\n",
       "198         flop        0.669      a heart too proud - laura london8\n",
       "199         flop        0.857      a heart too proud - laura london9\n",
       "0    best seller        0.941               a new hope - robyn carr1\n",
       "1    best seller        0.794              a new hope - robyn carr10\n",
       "2    best seller        0.881               a new hope - robyn carr2\n",
       "3    best seller        0.789               a new hope - robyn carr3\n",
       "4    best seller        0.940               a new hope - robyn carr4\n",
       "5    best seller        0.730               a new hope - robyn carr5\n",
       "6    best seller        0.858               a new hope - robyn carr6\n",
       "7    best seller        0.906               a new hope - robyn carr7\n",
       "8    best seller        0.921               a new hope - robyn carr8\n",
       "9    best seller        0.948               a new hope - robyn carr9\n",
       "200         flop        0.695   a stillness of chimes - meg moseley1\n",
       "201         flop        0.905  a stillness of chimes - meg moseley10\n",
       "202         flop        0.666   a stillness of chimes - meg moseley2\n",
       "203         flop        0.887   a stillness of chimes - meg moseley3\n",
       "204         flop        0.873   a stillness of chimes - meg moseley4\n",
       "205         flop        0.523   a stillness of chimes - meg moseley5\n",
       "206         flop        0.652   a stillness of chimes - meg moseley6\n",
       "207         flop        0.843   a stillness of chimes - meg moseley7\n",
       "208         flop        0.523   a stillness of chimes - meg moseley8\n",
       "209         flop        0.854   a stillness of chimes - meg moseley9\n",
       "..           ...          ...                                    ...\n",
       "160  best seller        0.826         the notebook - nicolas sparks1\n",
       "161  best seller        0.859        the notebook - nicolas sparks10\n",
       "162         flop        0.559         the notebook - nicolas sparks2\n",
       "163         flop        0.581         the notebook - nicolas sparks3\n",
       "164         flop        0.528         the notebook - nicolas sparks4\n",
       "165  best seller        0.781         the notebook - nicolas sparks5\n",
       "166  best seller        0.846         the notebook - nicolas sparks6\n",
       "167         flop        0.634         the notebook - nicolas sparks7\n",
       "168  best seller        0.829         the notebook - nicolas sparks8\n",
       "169  best seller        0.869         the notebook - nicolas sparks9\n",
       "170  best seller        0.769    the rosie project - graeme simsion1\n",
       "171  best seller        0.879   the rosie project - graeme simsion10\n",
       "172  best seller        0.728    the rosie project - graeme simsion2\n",
       "173  best seller        0.866    the rosie project - graeme simsion3\n",
       "174  best seller        0.887    the rosie project - graeme simsion4\n",
       "175  best seller        0.678    the rosie project - graeme simsion5\n",
       "176  best seller        0.904    the rosie project - graeme simsion6\n",
       "177  best seller        0.647    the rosie project - graeme simsion7\n",
       "178  best seller        0.914    the rosie project - graeme simsion8\n",
       "179  best seller        0.871    the rosie project - graeme simsion9\n",
       "180  best seller        0.683       the wedding pact - katee robert1\n",
       "181  best seller        0.857      the wedding pact - katee robert10\n",
       "182  best seller        0.885       the wedding pact - katee robert2\n",
       "183         flop        0.542       the wedding pact - katee robert3\n",
       "184  best seller        0.629       the wedding pact - katee robert4\n",
       "185  best seller        0.571       the wedding pact - katee robert5\n",
       "186  best seller        0.941       the wedding pact - katee robert6\n",
       "187  best seller        0.706       the wedding pact - katee robert7\n",
       "188  best seller        0.911       the wedding pact - katee robert8\n",
       "189  best seller        0.667       the wedding pact - katee robert9\n",
       "\n",
       "[451 rows x 3 columns]"
      ]
     },
     "execution_count": 886,
     "metadata": {},
     "output_type": "execute_result"
    }
   ],
   "source": [
    "results_rm.sort_values('title') #head(5)"
   ]
  },
  {
   "cell_type": "code",
   "execution_count": 888,
   "metadata": {
    "collapsed": false
   },
   "outputs": [
    {
     "data": {
      "text/html": [
       "<div>\n",
       "<table border=\"1\" class=\"dataframe\">\n",
       "  <thead>\n",
       "    <tr style=\"text-align: right;\">\n",
       "      <th></th>\n",
       "      <th>best_seller</th>\n",
       "      <th>probability</th>\n",
       "      <th>title</th>\n",
       "    </tr>\n",
       "  </thead>\n",
       "  <tbody>\n",
       "    <tr>\n",
       "      <th>302</th>\n",
       "      <td>flop</td>\n",
       "      <td>0.967</td>\n",
       "      <td>rex - clementine elin2</td>\n",
       "    </tr>\n",
       "    <tr>\n",
       "      <th>307</th>\n",
       "      <td>flop</td>\n",
       "      <td>0.964</td>\n",
       "      <td>rex - clementine elin7</td>\n",
       "    </tr>\n",
       "    <tr>\n",
       "      <th>308</th>\n",
       "      <td>flop</td>\n",
       "      <td>0.961</td>\n",
       "      <td>rex - clementine elin8</td>\n",
       "    </tr>\n",
       "    <tr>\n",
       "      <th>372</th>\n",
       "      <td>flop</td>\n",
       "      <td>0.958</td>\n",
       "      <td>the last dance - cf sheeler2</td>\n",
       "    </tr>\n",
       "    <tr>\n",
       "      <th>379</th>\n",
       "      <td>flop</td>\n",
       "      <td>0.954</td>\n",
       "      <td>the last dance - cf sheeler9</td>\n",
       "    </tr>\n",
       "  </tbody>\n",
       "</table>\n",
       "</div>"
      ],
      "text/plain": [
       "    best_seller  probability                         title\n",
       "302        flop        0.967        rex - clementine elin2\n",
       "307        flop        0.964        rex - clementine elin7\n",
       "308        flop        0.961        rex - clementine elin8\n",
       "372        flop        0.958  the last dance - cf sheeler2\n",
       "379        flop        0.954  the last dance - cf sheeler9"
      ]
     },
     "execution_count": 888,
     "metadata": {},
     "output_type": "execute_result"
    }
   ],
   "source": [
    "results_rm[(results_rm['best_seller']=='flop')].head(5)"
   ]
  },
  {
   "cell_type": "code",
   "execution_count": null,
   "metadata": {
    "collapsed": false
   },
   "outputs": [],
   "source": []
  },
  {
   "cell_type": "code",
   "execution_count": 657,
   "metadata": {
    "collapsed": false
   },
   "outputs": [
    {
     "data": {
      "image/png": "[encoded data removed]",
      "text/plain": [
       "<matplotlib.figure.Figure at 0x134bbef50>"
      ]
     },
     "metadata": {},
     "output_type": "display_data"
    }
   ],
   "source": [
    "plot_roc_curve(target=y_rm_test, predict_proba=rf_proba_rm[:,1], title='Romance best-seller prediction')"
   ]
  },
  {
   "cell_type": "code",
   "execution_count": 558,
   "metadata": {
    "collapsed": false
   },
   "outputs": [],
   "source": [
    "def plot_roc_curve(target=False, predict_proba=False, title='Your prediction'):\n",
    "\n",
    "    FPR = dict()\n",
    "    TPR = dict()\n",
    "    ROC_AUC = dict()\n",
    "\n",
    "    FPR[1], TPR[1], _ = roc_curve(target,predict_proba)\n",
    "    ROC_AUC[1] = auc(FPR[1], TPR[1])\n",
    "    acc_ = np.abs(0.5 - np.mean(target)) + 0.5\n",
    "\n",
    "    plt.figure(figsize=[11,9])\n",
    "    plt.plot(FPR[1], TPR[1], label='ROC curve (area = %0.2f)' % ROC_AUC[1], linewidth=4, color='darkred')\n",
    "    #plt.plot([0, 1], [0, 1], 'k--', linewidth=4)\n",
    "    plt.plot([0, 1], [0, 1], color='grey', ls='dashed',\n",
    "             alpha=0.9, linewidth=4, label='baseline accuracy = %0.2f' % acc_)\n",
    "    plt.xlim([0.0, 1.0])\n",
    "    plt.ylim([0.0, 1.05])\n",
    "    plt.xlabel('False Positive Rate', fontsize=18)\n",
    "    plt.ylabel('True Positive Rate', fontsize=18)\n",
    "    plt.title(' %s' % title, fontsize=18)\n",
    "    plt.legend(loc=\"lower right\")\n",
    "    plt.show()"
   ]
  },
  {
   "cell_type": "markdown",
   "metadata": {},
   "source": [
    "#### Variable manipulation"
   ]
  },
  {
   "cell_type": "code",
   "execution_count": 560,
   "metadata": {
    "collapsed": false
   },
   "outputs": [
    {
     "data": {
      "text/html": [
       "<div>\n",
       "<table border=\"1\" class=\"dataframe\">\n",
       "  <thead>\n",
       "    <tr style=\"text-align: right;\">\n",
       "      <th></th>\n",
       "      <th>avg_sent_len</th>\n",
       "      <th>avg_word_len</th>\n",
       "      <th>lex_diversity</th>\n",
       "      <th>polarity</th>\n",
       "      <th>subjectivity</th>\n",
       "      <th>profane</th>\n",
       "      <th>conj_coord</th>\n",
       "      <th>determiner</th>\n",
       "      <th>exist_there</th>\n",
       "      <th>foreign_word</th>\n",
       "      <th>...</th>\n",
       "      <th>verb.consumption</th>\n",
       "      <th>verb.contact</th>\n",
       "      <th>verb.creation</th>\n",
       "      <th>verb.emotion</th>\n",
       "      <th>verb.motion</th>\n",
       "      <th>verb.perception</th>\n",
       "      <th>verb.possession</th>\n",
       "      <th>verb.social</th>\n",
       "      <th>verb.stative</th>\n",
       "      <th>verb.weather</th>\n",
       "    </tr>\n",
       "  </thead>\n",
       "  <tbody>\n",
       "    <tr>\n",
       "      <th>0</th>\n",
       "      <td>9.755556</td>\n",
       "      <td>3.822222</td>\n",
       "      <td>0.108423</td>\n",
       "      <td>0.075647</td>\n",
       "      <td>0.48345</td>\n",
       "      <td>9.669269e-08</td>\n",
       "      <td>0.034642</td>\n",
       "      <td>0.081625</td>\n",
       "      <td>0.001419</td>\n",
       "      <td>0.000093</td>\n",
       "      <td>...</td>\n",
       "      <td>0.009271</td>\n",
       "      <td>0.098698</td>\n",
       "      <td>0.007002</td>\n",
       "      <td>0.0437</td>\n",
       "      <td>0.132105</td>\n",
       "      <td>0.060374</td>\n",
       "      <td>0.101073</td>\n",
       "      <td>0.09726</td>\n",
       "      <td>0.186955</td>\n",
       "      <td>0.001025</td>\n",
       "    </tr>\n",
       "  </tbody>\n",
       "</table>\n",
       "<p>1 rows × 54 columns</p>\n",
       "</div>"
      ],
      "text/plain": [
       "   avg_sent_len  avg_word_len  lex_diversity  polarity  subjectivity  \\\n",
       "0      9.755556      3.822222       0.108423  0.075647       0.48345   \n",
       "\n",
       "        profane  conj_coord  determiner  exist_there  foreign_word  \\\n",
       "0  9.669269e-08    0.034642    0.081625     0.001419      0.000093   \n",
       "\n",
       "       ...       verb.consumption  verb.contact  verb.creation  verb.emotion  \\\n",
       "0      ...               0.009271      0.098698       0.007002        0.0437   \n",
       "\n",
       "   verb.motion  verb.perception  verb.possession  verb.social  verb.stative  \\\n",
       "0     0.132105         0.060374         0.101073      0.09726      0.186955   \n",
       "\n",
       "   verb.weather  \n",
       "0      0.001025  \n",
       "\n",
       "[1 rows x 54 columns]"
      ]
     },
     "execution_count": 560,
     "metadata": {},
     "output_type": "execute_result"
    }
   ],
   "source": [
    "df_mean = pd.DataFrame(X_all.mean()).T\n",
    "df_mean"
   ]
  },
  {
   "cell_type": "code",
   "execution_count": 865,
   "metadata": {
    "collapsed": false
   },
   "outputs": [
    {
     "data": {
      "image/png": "[encoded data removed]",
      "text/plain": [
       "<matplotlib.figure.Figure at 0x13c098290>"
      ]
     },
     "metadata": {},
     "output_type": "display_data"
    }
   ],
   "source": [
    "vp_dict={}\n",
    "percentiles = range(2,100,3)\n",
    "\n",
    "#SCI-FI\n",
    "X = X_sf\n",
    "model = rfc_best_sf\n",
    "var_names = feature_importance_sf['feature'].head(5).tolist()\n",
    "title = 'Science-fiction top feature contribution to best-seller status'\n",
    "\n",
    "#ROMANCE\n",
    "# X = X_rm\n",
    "# model = rfc_best_rm\n",
    "# var_names = feature_importance_rm['feature'].head(5).tolist()\n",
    "# title = 'Romance top feature contribution to best-seller status'\n",
    "\n",
    "for i, name in enumerate(var_names):\n",
    "    vp_dict[i] = np.percentile(X[name].values, percentiles)\n",
    "\n",
    "pp_matrix = np.zeros((33,33))\n",
    "\n",
    "avg_row = pd.DataFrame(X.mean(axis=0)).T\n",
    "\n",
    "fig = plt.figure(figsize=(12,8))\n",
    "\n",
    "graph=pd.DataFrame({'value':0 ,'probability': 0},index=[0])\n",
    "\n",
    "for vals, name in zip(vp_dict.values(),var_names):\n",
    "    for row, s in enumerate(vals):\n",
    "        avg_row.loc[:,name] = s\n",
    "        pred_prob = model.predict_proba(avg_row.values)[:,1]\n",
    "        graph.append([s,pred_prob[0]])\n",
    "        pp_matrix[row, col] = pred_prob\n",
    "        graph.ix[row,'value'] = s\n",
    "        graph.ix[row,'probability'] = pred_prob[0]\n",
    "        \n",
    "    graph['norm'] = (graph['value'] - graph['value'].min()) / (graph['value'].max() - graph['value'].min())\n",
    "    plt.plot(graph['norm'],graph['probability'], label=name)\n",
    "plt.title(title)    \n",
    "plt.legend()\n",
    "plt.show()"
   ]
  },
  {
   "cell_type": "code",
   "execution_count": 904,
   "metadata": {
    "collapsed": false
   },
   "outputs": [
    {
     "name": "stdout",
     "output_type": "stream",
     "text": [
      "0 poss_ending\n",
      "1 lex_diversity\n",
      "2 pronoun_poss\n",
      "3 noun_prop\n",
      "4 inf_to\n",
      "5 determiner\n"
     ]
    }
   ],
   "source": [
    "# SCI-FI\n",
    "which = 'Science-fiction'\n",
    "X = X_sf\n",
    "model = rfc_best_sf\n",
    "var_names = feature_importance_sf['feature'].head(6).tolist()\n",
    "\n",
    "# ROMANCE\n",
    "# which = 'Romance'\n",
    "# X = X_rm\n",
    "# model = rfc_best_rm\n",
    "# var_names = feature_importance_rm['feature'].head()[0:2].tolist()\n",
    "\n",
    "\n",
    "percentiles = range(5,100,5)\n",
    "for i, name in enumerate(var_names):\n",
    "    vp_dict[i] = np.percentile(X[name].values, percentiles)\n",
    "    print i,name\n",
    "\n",
    "pp_matrix = np.zeros((19,19))\n",
    "\n",
    "avg_row = pd.DataFrame(X.mean(axis=0)).T\n",
    "\n",
    "for row, s in enumerate(vp_dict.values()[0]):\n",
    "    for col, p in enumerate(vp_dict.values()[1]):\n",
    "        avg_row.loc[:,var_names[0]] = s\n",
    "        avg_row.loc[:,var_names[1]] = p\n",
    "        pred_prob = model.predict_proba(avg_row.values)[:,1]\n",
    "        pp_matrix[row, col] = pred_prob\n",
    "\n"
   ]
  },
  {
   "cell_type": "code",
   "execution_count": 882,
   "metadata": {
    "collapsed": false
   },
   "outputs": [
    {
     "name": "stdout",
     "output_type": "stream",
     "text": [
      "Change in Science-fiction best-seller probabilty with the increase of poss_ending and lex_diversity\n"
     ]
    },
    {
     "data": {
      "image/png": "[encoded data removed]",
      "text/plain": [
       "<matplotlib.figure.Figure at 0x138fb3bd0>"
      ]
     },
     "metadata": {},
     "output_type": "display_data"
    }
   ],
   "source": [
    "sns.heatmap(pd.DataFrame(pp_matrix))\n",
    "print 'Change in',which, 'best-seller probabilty with the increase of',var_names[0],'and',var_names[1]"
   ]
  },
  {
   "cell_type": "code",
   "execution_count": null,
   "metadata": {
    "collapsed": false
   },
   "outputs": [],
   "source": []
  },
  {
   "cell_type": "code",
   "execution_count": null,
   "metadata": {
    "collapsed": false
   },
   "outputs": [],
   "source": []
  },
  {
   "cell_type": "code",
   "execution_count": null,
   "metadata": {
    "collapsed": true
   },
   "outputs": [],
   "source": []
  }
 ],
 "metadata": {
  "anaconda-cloud": {},
  "kernelspec": {
   "display_name": "Python [dsi]",
   "language": "python",
   "name": "Python [dsi]"
  },
  "language_info": {
   "codemirror_mode": {
    "name": "ipython",
    "version": 2
   },
   "file_extension": ".py",
   "mimetype": "text/x-python",
   "name": "python",
   "nbconvert_exporter": "python",
   "pygments_lexer": "ipython2",
   "version": "2.7.12"
  }
 },
 "nbformat": 4,
 "nbformat_minor": 0
}
